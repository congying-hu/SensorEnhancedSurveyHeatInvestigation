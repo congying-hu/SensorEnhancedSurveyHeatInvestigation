{
 "cells": [
  {
   "cell_type": "code",
   "execution_count": 47,
   "metadata": {},
   "outputs": [],
   "source": [
    "import os\n",
    "import pandas as pd"
   ]
  },
  {
   "cell_type": "markdown",
   "metadata": {},
   "source": [
    "# Prepare data"
   ]
  },
  {
   "cell_type": "markdown",
   "metadata": {},
   "source": [
    "## Read sensor ID"
   ]
  },
  {
   "cell_type": "code",
   "execution_count": 48,
   "metadata": {},
   "outputs": [],
   "source": [
    "# Read sensor id\n",
    "sensor_id = pd.read_csv('Data/SensorID_EPC_Survey_Open_Data.csv')"
   ]
  },
  {
   "cell_type": "code",
   "execution_count": 49,
   "metadata": {},
   "outputs": [],
   "source": [
    "# Convert field to datetime type \n",
    "sensor_id['Battery Charging Start Time'] = pd.to_datetime(sensor_id['Battery Charging Start Time'], format=\"%d/%m/%Y %H:%M\")  \n",
    "sensor_id['Battery Charging End Time'] = pd.to_datetime(sensor_id['Battery Charging End Time'], format=\"%d/%m/%Y %H:%M\")  \n",
    "\n",
    "sensor_id['Recording Start Time (Participant)'] = pd.to_datetime(sensor_id['Recording Start Time (Participant) '], format=\"%d/%m/%Y %H:%M\")  \n",
    "sensor_id['Recording End Time (Participant)'] = pd.to_datetime(sensor_id['Recording End Time (Participant) '], format=\"%d/%m/%Y %H:%M\")"
   ]
  },
  {
   "cell_type": "code",
   "execution_count": 50,
   "metadata": {},
   "outputs": [],
   "source": [
    "# Set ID as index\n",
    "sensor_id = sensor_id.set_index('ID')"
   ]
  },
  {
   "cell_type": "code",
   "execution_count": 51,
   "metadata": {},
   "outputs": [],
   "source": [
    "# Define final start datetime and end datetime\n",
    "# Delay 1 hour to allow the sensor settled in the indoor condition and improve the accuracy of indoor temperature measurement\n",
    "sensor_id[['start_datetime']] = sensor_id[['Battery Charging Start Time']] + pd.Timedelta(hours=1)\n",
    "sensor_id[['end_datetime']] = sensor_id[['Battery Charging End Time']]\n",
    "\n",
    "sensor_id.start_datetime.fillna(sensor_id['Recording Start Time (Participant)'], inplace=True)\n",
    "sensor_id.end_datetime.fillna(sensor_id['Recording End Time (Participant)'], inplace=True)"
   ]
  },
  {
   "cell_type": "markdown",
   "metadata": {},
   "source": [
    "## Read sensor data"
   ]
  },
  {
   "cell_type": "code",
   "execution_count": 52,
   "metadata": {},
   "outputs": [],
   "source": [
    "# Read and filter sensors data accroding to datetime\n",
    "sensors_data_path = 'Data/Household Indoor Sensor Measurement Data/'\n",
    "\n",
    "sensors_data = {}\n",
    "\n",
    "for data_path in os.listdir(sensors_data_path):\n",
    "    df = pd.read_csv(sensors_data_path+data_path)\n",
    "\n",
    "    df['TIME'] = pd.to_datetime(df['TIME'])  \n",
    "\n",
    "    start_date_value = sensor_id.loc[data_path[:-4]]['start_datetime']\n",
    "    end_date_value = sensor_id.loc[data_path[:-4]]['end_datetime']\n",
    "\n",
    "    df = df[(df['TIME'] >= start_date_value) & (df['TIME'] <= end_date_value)]\n",
    "    df = df.set_index('TIME')\n",
    "\n",
    "    sensors_data[data_path[:-4]] = df"
   ]
  },
  {
   "cell_type": "markdown",
   "metadata": {},
   "source": [
    "## Read weather station data"
   ]
  },
  {
   "cell_type": "code",
   "execution_count": 53,
   "metadata": {},
   "outputs": [],
   "source": [
    "# read data\n",
    "station_limbo = pd.read_csv('Data/LIMBO.csv')\n",
    "\n",
    "# transform date to datetime\n",
    "station_limbo['Report Date / Time'] = pd.to_datetime(station_limbo['Report Date / Time'], format='%Y-%m-%d %H:%M:%S', errors='coerce')\n",
    "\n",
    "# set datetime as index\n",
    "station_limbo.index = station_limbo['Report Date / Time']"
   ]
  },
  {
   "cell_type": "markdown",
   "metadata": {},
   "source": [
    "# Calculate temperature difference"
   ]
  },
  {
   "cell_type": "markdown",
   "metadata": {},
   "source": [
    "Aggregate weather station (outdoor) and sensor (indoor) data in a hourly basis"
   ]
  },
  {
   "cell_type": "markdown",
   "metadata": {},
   "source": [
    "## Weather station data"
   ]
  },
  {
   "cell_type": "code",
   "execution_count": 54,
   "metadata": {},
   "outputs": [],
   "source": [
    "# Filter hourly data and groupby based on hour\n",
    "station_limbo['hourly_time'] = station_limbo['Report Date / Time'].apply(lambda x: str(x)[:-6]+'h')\n",
    "station_hour = station_limbo.groupby('hourly_time').agg({'Air Temperature': ['mean']})"
   ]
  },
  {
   "cell_type": "markdown",
   "metadata": {},
   "source": [
    "## Sensor data"
   ]
  },
  {
   "cell_type": "code",
   "execution_count": 55,
   "metadata": {},
   "outputs": [],
   "source": [
    "# Filter hourly data and groupby based on hour\n",
    "for index in sensors_data:\n",
    "    sensors_data[index]['time'] = sensors_data[index].index\n",
    "    sensors_data[index]['hourly_time'] = sensors_data[index]['time'].apply(lambda x: str(x)[:-6]+'h')\n",
    "\n",
    "sensors_data_hour = {}\n",
    "\n",
    "for index in sensors_data:\n",
    "    sensors_data_hour[index] = sensors_data[index].groupby('hourly_time').agg({'TEMP': ['mean']})"
   ]
  },
  {
   "cell_type": "markdown",
   "metadata": {},
   "source": [
    "## Calculate temperature difference "
   ]
  },
  {
   "cell_type": "markdown",
   "metadata": {},
   "source": [
    "The \"temperature difference\" is calculated with the hourly mean temperaure:\n",
    "\n",
    "\"Absolute *[Hourly Mean (indoor sensor temperatures) – Hourly Mean (outdoor weather station temperatures)]*\""
   ]
  },
  {
   "cell_type": "code",
   "execution_count": 56,
   "metadata": {},
   "outputs": [],
   "source": [
    "# Combine station and sensors data in a dataframe\n",
    "compare_data_hour = {}\n",
    "\n",
    "for index in sensors_data_hour:\n",
    "    compare_data_hour[index] = sensors_data_hour[index].join(station_hour,how='left')\n",
    "\n",
    "    compare_data_hour[index] = compare_data_hour[index].set_axis(['Indoor_Mean','Outdoor_Mean'], axis=1)\n",
    "    \n",
    "    compare_data_hour[index]['Date_hour'] = compare_data_hour[index].index\n",
    "\n",
    "    compare_data_hour[index]['Date'] = compare_data_hour[index]['Date_hour'].apply(lambda x: x[:-4])\n",
    "    compare_data_hour[index]['Hour'] = compare_data_hour[index]['Date_hour'].apply(lambda x: x[-4:])\n",
    "\n",
    "\n",
    "    compare_data_hour[index] = compare_data_hour[index].reset_index()\n",
    "    compare_data_hour[index]['hourly_time'] = pd.to_datetime(compare_data_hour[index]['hourly_time'])\n",
    "\n",
    "    compare_data_hour[index] = compare_data_hour[index].set_index('hourly_time',drop=False)\n",
    "\n",
    "    compare_data_hour[index]['mean_diff'] = (compare_data_hour[index]['Indoor_Mean'] - compare_data_hour[index]['Outdoor_Mean']).abs()"
   ]
  },
  {
   "cell_type": "code",
   "execution_count": 57,
   "metadata": {},
   "outputs": [],
   "source": [
    "# Define day/night time\n",
    "sunrise = 6\n",
    "sunset = 20"
   ]
  },
  {
   "cell_type": "code",
   "execution_count": 58,
   "metadata": {},
   "outputs": [],
   "source": [
    "# Calculate the mean of temperature difference across whole measurement period for each sensor\n",
    "mean_tempdiff = {}\n",
    "\n",
    "for index in compare_data_hour:\n",
    "    df = compare_data_hour[index]\n",
    "    day_df = df[(df.index.hour >= sunrise) & (df.index.hour < sunset)]\n",
    "    night_df = df[(df.index.hour < sunrise) | (df.index.hour >= sunset)]\n",
    "\n",
    "    mean_tempdiff[index] = [df['mean_diff'].mean(),day_df['mean_diff'].mean(), \n",
    "    night_df['mean_diff'].mean()]\n",
    "\n",
    "tempdiff_all = pd.DataFrame.from_dict(mean_tempdiff,orient='index',columns=['mean','day_mean','night_mean'])"
   ]
  },
  {
   "cell_type": "markdown",
   "metadata": {},
   "source": [
    "### Result for Part 4 of TBIJ report: Indoor and outdoor temperature gap\n",
    "\n",
    "Some homes were as much as 8-10C hotter at night over the full monitoring period than the outside air temperature, according to readings at local weather stations."
   ]
  },
  {
   "cell_type": "code",
   "execution_count": 59,
   "metadata": {},
   "outputs": [
    {
     "data": {
      "text/plain": [
       "BL007-28    10.021508\n",
       "BL007-36     9.922896\n",
       "BL007-04     8.604666\n",
       "BL007-09     8.351340\n",
       "BL007-48     8.302595\n",
       "BL007-14     8.247516\n",
       "BL007-47     8.158813\n",
       "BL007-13     7.843938\n",
       "BL007-43     7.820293\n",
       "BL007-50     7.739167\n",
       "Name: night_mean, dtype: float64"
      ]
     },
     "execution_count": 59,
     "metadata": {},
     "output_type": "execute_result"
    }
   ],
   "source": [
    "tempdiff_all['night_mean'].nlargest(10)"
   ]
  }
 ],
 "metadata": {
  "kernelspec": {
   "display_name": "base",
   "language": "python",
   "name": "python3"
  },
  "language_info": {
   "codemirror_mode": {
    "name": "ipython",
    "version": 3
   },
   "file_extension": ".py",
   "mimetype": "text/x-python",
   "name": "python",
   "nbconvert_exporter": "python",
   "pygments_lexer": "ipython3",
   "version": "3.8.8"
  }
 },
 "nbformat": 4,
 "nbformat_minor": 2
}
