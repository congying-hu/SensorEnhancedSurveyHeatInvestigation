{
 "cells": [
  {
   "cell_type": "code",
   "execution_count": 56,
   "id": "e8ee9580-7ec3-46ce-a9c6-1471318e56ce",
   "metadata": {
    "tags": []
   },
   "outputs": [],
   "source": [
    "import pandas as pd\n",
    "import matplotlib.pyplot as plt\n",
    "import seaborn as sns\n",
    "import numpy as np"
   ]
  },
  {
   "cell_type": "markdown",
   "id": "e45d34ad-fb7e-4984-93bc-830af3688f3b",
   "metadata": {},
   "source": [
    "# Prepare data"
   ]
  },
  {
   "cell_type": "markdown",
   "id": "5c7c7f0b-c37a-4d06-a2fd-8e2be7521271",
   "metadata": {},
   "source": [
    "## Read survey and epc data"
   ]
  },
  {
   "cell_type": "code",
   "execution_count": 58,
   "id": "33122a86-8cad-41fa-9b3b-e12b008eb105",
   "metadata": {},
   "outputs": [],
   "source": [
    "# Read 'SensorID_EPC_Survey_Open_Data' file\n",
    "file_path_ID ='Data/SensorID_EPC_Survey_Open_Data.csv'\n",
    "df_ID_time = pd.read_csv(file_path_ID)"
   ]
  },
  {
   "cell_type": "code",
   "execution_count": 59,
   "id": "bc5da4c6-bb8c-45d8-9804-6af8b36385d5",
   "metadata": {
    "tags": []
   },
   "outputs": [],
   "source": [
    "ID_list=df_ID_time['ID']"
   ]
  },
  {
   "cell_type": "code",
   "execution_count": 60,
   "id": "a97531d6-2b35-4563-a28d-e04000dd5c2a",
   "metadata": {
    "tags": []
   },
   "outputs": [],
   "source": [
    "# Convert field to datetime type \n",
    "df_ID_time['Battery Charging Start Time'] = pd.to_datetime(df_ID_time['Battery Charging Start Time'], format=\"%d/%m/%Y %H:%M\")  \n",
    "df_ID_time['Battery Charging End Time'] = pd.to_datetime(df_ID_time['Battery Charging End Time'], format=\"%d/%m/%Y %H:%M\")  \n",
    "\n",
    "df_ID_time['Recording Start Time (Participant)'] = pd.to_datetime(df_ID_time['Recording Start Time (Participant) '], format=\"%d/%m/%Y %H:%M\")  \n",
    "df_ID_time['Recording End Time (Participant)'] = pd.to_datetime(df_ID_time['Recording End Time (Participant) '], format=\"%d/%m/%Y %H:%M\")  "
   ]
  },
  {
   "cell_type": "markdown",
   "id": "dd5a31b0-c611-484e-8daf-d8c4c9d3bcc4",
   "metadata": {},
   "source": [
    "## Generate statistics dataframe"
   ]
  },
  {
   "cell_type": "code",
   "execution_count": 61,
   "id": "cac94317-b519-44cf-993b-4fee390af4d4",
   "metadata": {
    "collapsed": true,
    "jupyter": {
     "outputs_hidden": true
    },
    "tags": []
   },
   "outputs": [
    {
     "name": "stderr",
     "output_type": "stream",
     "text": [
      "C:\\Users\\ch335s\\AppData\\Local\\Temp\\ipykernel_11444\\3960158687.py:29: SettingWithCopyWarning: \n",
      "A value is trying to be set on a copy of a slice from a DataFrame.\n",
      "Try using .loc[row_indexer,col_indexer] = value instead\n",
      "\n",
      "See the caveats in the documentation: https://pandas.pydata.org/pandas-docs/stable/user_guide/indexing.html#returning-a-view-versus-a-copy\n",
      "  sliced_df['Date'] = sliced_df['TIME'].dt.date\n",
      "C:\\Users\\ch335s\\AppData\\Local\\Temp\\ipykernel_11444\\3960158687.py:30: SettingWithCopyWarning: \n",
      "A value is trying to be set on a copy of a slice from a DataFrame.\n",
      "Try using .loc[row_indexer,col_indexer] = value instead\n",
      "\n",
      "See the caveats in the documentation: https://pandas.pydata.org/pandas-docs/stable/user_guide/indexing.html#returning-a-view-versus-a-copy\n",
      "  sliced_df['Time'] = sliced_df['TIME'].dt.time\n",
      "C:\\Users\\ch335s\\AppData\\Local\\Temp\\ipykernel_11444\\3960158687.py:31: SettingWithCopyWarning: \n",
      "A value is trying to be set on a copy of a slice from a DataFrame.\n",
      "Try using .loc[row_indexer,col_indexer] = value instead\n",
      "\n",
      "See the caveats in the documentation: https://pandas.pydata.org/pandas-docs/stable/user_guide/indexing.html#returning-a-view-versus-a-copy\n",
      "  sliced_df['Hour'] = sliced_df['TIME'].dt.hour\n",
      "C:\\Users\\ch335s\\AppData\\Local\\Temp\\ipykernel_11444\\3960158687.py:29: SettingWithCopyWarning: \n",
      "A value is trying to be set on a copy of a slice from a DataFrame.\n",
      "Try using .loc[row_indexer,col_indexer] = value instead\n",
      "\n",
      "See the caveats in the documentation: https://pandas.pydata.org/pandas-docs/stable/user_guide/indexing.html#returning-a-view-versus-a-copy\n",
      "  sliced_df['Date'] = sliced_df['TIME'].dt.date\n",
      "C:\\Users\\ch335s\\AppData\\Local\\Temp\\ipykernel_11444\\3960158687.py:30: SettingWithCopyWarning: \n",
      "A value is trying to be set on a copy of a slice from a DataFrame.\n",
      "Try using .loc[row_indexer,col_indexer] = value instead\n",
      "\n",
      "See the caveats in the documentation: https://pandas.pydata.org/pandas-docs/stable/user_guide/indexing.html#returning-a-view-versus-a-copy\n",
      "  sliced_df['Time'] = sliced_df['TIME'].dt.time\n",
      "C:\\Users\\ch335s\\AppData\\Local\\Temp\\ipykernel_11444\\3960158687.py:31: SettingWithCopyWarning: \n",
      "A value is trying to be set on a copy of a slice from a DataFrame.\n",
      "Try using .loc[row_indexer,col_indexer] = value instead\n",
      "\n",
      "See the caveats in the documentation: https://pandas.pydata.org/pandas-docs/stable/user_guide/indexing.html#returning-a-view-versus-a-copy\n",
      "  sliced_df['Hour'] = sliced_df['TIME'].dt.hour\n",
      "C:\\Users\\ch335s\\AppData\\Local\\Temp\\ipykernel_11444\\3960158687.py:29: SettingWithCopyWarning: \n",
      "A value is trying to be set on a copy of a slice from a DataFrame.\n",
      "Try using .loc[row_indexer,col_indexer] = value instead\n",
      "\n",
      "See the caveats in the documentation: https://pandas.pydata.org/pandas-docs/stable/user_guide/indexing.html#returning-a-view-versus-a-copy\n",
      "  sliced_df['Date'] = sliced_df['TIME'].dt.date\n",
      "C:\\Users\\ch335s\\AppData\\Local\\Temp\\ipykernel_11444\\3960158687.py:30: SettingWithCopyWarning: \n",
      "A value is trying to be set on a copy of a slice from a DataFrame.\n",
      "Try using .loc[row_indexer,col_indexer] = value instead\n",
      "\n",
      "See the caveats in the documentation: https://pandas.pydata.org/pandas-docs/stable/user_guide/indexing.html#returning-a-view-versus-a-copy\n",
      "  sliced_df['Time'] = sliced_df['TIME'].dt.time\n",
      "C:\\Users\\ch335s\\AppData\\Local\\Temp\\ipykernel_11444\\3960158687.py:31: SettingWithCopyWarning: \n",
      "A value is trying to be set on a copy of a slice from a DataFrame.\n",
      "Try using .loc[row_indexer,col_indexer] = value instead\n",
      "\n",
      "See the caveats in the documentation: https://pandas.pydata.org/pandas-docs/stable/user_guide/indexing.html#returning-a-view-versus-a-copy\n",
      "  sliced_df['Hour'] = sliced_df['TIME'].dt.hour\n",
      "C:\\Users\\ch335s\\AppData\\Local\\Temp\\ipykernel_11444\\3960158687.py:29: SettingWithCopyWarning: \n",
      "A value is trying to be set on a copy of a slice from a DataFrame.\n",
      "Try using .loc[row_indexer,col_indexer] = value instead\n",
      "\n",
      "See the caveats in the documentation: https://pandas.pydata.org/pandas-docs/stable/user_guide/indexing.html#returning-a-view-versus-a-copy\n",
      "  sliced_df['Date'] = sliced_df['TIME'].dt.date\n",
      "C:\\Users\\ch335s\\AppData\\Local\\Temp\\ipykernel_11444\\3960158687.py:30: SettingWithCopyWarning: \n",
      "A value is trying to be set on a copy of a slice from a DataFrame.\n",
      "Try using .loc[row_indexer,col_indexer] = value instead\n",
      "\n",
      "See the caveats in the documentation: https://pandas.pydata.org/pandas-docs/stable/user_guide/indexing.html#returning-a-view-versus-a-copy\n",
      "  sliced_df['Time'] = sliced_df['TIME'].dt.time\n",
      "C:\\Users\\ch335s\\AppData\\Local\\Temp\\ipykernel_11444\\3960158687.py:31: SettingWithCopyWarning: \n",
      "A value is trying to be set on a copy of a slice from a DataFrame.\n",
      "Try using .loc[row_indexer,col_indexer] = value instead\n",
      "\n",
      "See the caveats in the documentation: https://pandas.pydata.org/pandas-docs/stable/user_guide/indexing.html#returning-a-view-versus-a-copy\n",
      "  sliced_df['Hour'] = sliced_df['TIME'].dt.hour\n",
      "C:\\Users\\ch335s\\AppData\\Local\\Temp\\ipykernel_11444\\3960158687.py:29: SettingWithCopyWarning: \n",
      "A value is trying to be set on a copy of a slice from a DataFrame.\n",
      "Try using .loc[row_indexer,col_indexer] = value instead\n",
      "\n",
      "See the caveats in the documentation: https://pandas.pydata.org/pandas-docs/stable/user_guide/indexing.html#returning-a-view-versus-a-copy\n",
      "  sliced_df['Date'] = sliced_df['TIME'].dt.date\n",
      "C:\\Users\\ch335s\\AppData\\Local\\Temp\\ipykernel_11444\\3960158687.py:30: SettingWithCopyWarning: \n",
      "A value is trying to be set on a copy of a slice from a DataFrame.\n",
      "Try using .loc[row_indexer,col_indexer] = value instead\n",
      "\n",
      "See the caveats in the documentation: https://pandas.pydata.org/pandas-docs/stable/user_guide/indexing.html#returning-a-view-versus-a-copy\n",
      "  sliced_df['Time'] = sliced_df['TIME'].dt.time\n",
      "C:\\Users\\ch335s\\AppData\\Local\\Temp\\ipykernel_11444\\3960158687.py:31: SettingWithCopyWarning: \n",
      "A value is trying to be set on a copy of a slice from a DataFrame.\n",
      "Try using .loc[row_indexer,col_indexer] = value instead\n",
      "\n",
      "See the caveats in the documentation: https://pandas.pydata.org/pandas-docs/stable/user_guide/indexing.html#returning-a-view-versus-a-copy\n",
      "  sliced_df['Hour'] = sliced_df['TIME'].dt.hour\n",
      "C:\\Users\\ch335s\\AppData\\Local\\Temp\\ipykernel_11444\\3960158687.py:29: SettingWithCopyWarning: \n",
      "A value is trying to be set on a copy of a slice from a DataFrame.\n",
      "Try using .loc[row_indexer,col_indexer] = value instead\n",
      "\n",
      "See the caveats in the documentation: https://pandas.pydata.org/pandas-docs/stable/user_guide/indexing.html#returning-a-view-versus-a-copy\n",
      "  sliced_df['Date'] = sliced_df['TIME'].dt.date\n",
      "C:\\Users\\ch335s\\AppData\\Local\\Temp\\ipykernel_11444\\3960158687.py:30: SettingWithCopyWarning: \n",
      "A value is trying to be set on a copy of a slice from a DataFrame.\n",
      "Try using .loc[row_indexer,col_indexer] = value instead\n",
      "\n",
      "See the caveats in the documentation: https://pandas.pydata.org/pandas-docs/stable/user_guide/indexing.html#returning-a-view-versus-a-copy\n",
      "  sliced_df['Time'] = sliced_df['TIME'].dt.time\n",
      "C:\\Users\\ch335s\\AppData\\Local\\Temp\\ipykernel_11444\\3960158687.py:31: SettingWithCopyWarning: \n",
      "A value is trying to be set on a copy of a slice from a DataFrame.\n",
      "Try using .loc[row_indexer,col_indexer] = value instead\n",
      "\n",
      "See the caveats in the documentation: https://pandas.pydata.org/pandas-docs/stable/user_guide/indexing.html#returning-a-view-versus-a-copy\n",
      "  sliced_df['Hour'] = sliced_df['TIME'].dt.hour\n",
      "C:\\Users\\ch335s\\AppData\\Local\\Temp\\ipykernel_11444\\3960158687.py:29: SettingWithCopyWarning: \n",
      "A value is trying to be set on a copy of a slice from a DataFrame.\n",
      "Try using .loc[row_indexer,col_indexer] = value instead\n",
      "\n",
      "See the caveats in the documentation: https://pandas.pydata.org/pandas-docs/stable/user_guide/indexing.html#returning-a-view-versus-a-copy\n",
      "  sliced_df['Date'] = sliced_df['TIME'].dt.date\n",
      "C:\\Users\\ch335s\\AppData\\Local\\Temp\\ipykernel_11444\\3960158687.py:30: SettingWithCopyWarning: \n",
      "A value is trying to be set on a copy of a slice from a DataFrame.\n",
      "Try using .loc[row_indexer,col_indexer] = value instead\n",
      "\n",
      "See the caveats in the documentation: https://pandas.pydata.org/pandas-docs/stable/user_guide/indexing.html#returning-a-view-versus-a-copy\n",
      "  sliced_df['Time'] = sliced_df['TIME'].dt.time\n",
      "C:\\Users\\ch335s\\AppData\\Local\\Temp\\ipykernel_11444\\3960158687.py:31: SettingWithCopyWarning: \n",
      "A value is trying to be set on a copy of a slice from a DataFrame.\n",
      "Try using .loc[row_indexer,col_indexer] = value instead\n",
      "\n",
      "See the caveats in the documentation: https://pandas.pydata.org/pandas-docs/stable/user_guide/indexing.html#returning-a-view-versus-a-copy\n",
      "  sliced_df['Hour'] = sliced_df['TIME'].dt.hour\n",
      "C:\\Users\\ch335s\\AppData\\Local\\Temp\\ipykernel_11444\\3960158687.py:29: SettingWithCopyWarning: \n",
      "A value is trying to be set on a copy of a slice from a DataFrame.\n",
      "Try using .loc[row_indexer,col_indexer] = value instead\n",
      "\n",
      "See the caveats in the documentation: https://pandas.pydata.org/pandas-docs/stable/user_guide/indexing.html#returning-a-view-versus-a-copy\n",
      "  sliced_df['Date'] = sliced_df['TIME'].dt.date\n",
      "C:\\Users\\ch335s\\AppData\\Local\\Temp\\ipykernel_11444\\3960158687.py:30: SettingWithCopyWarning: \n",
      "A value is trying to be set on a copy of a slice from a DataFrame.\n",
      "Try using .loc[row_indexer,col_indexer] = value instead\n",
      "\n",
      "See the caveats in the documentation: https://pandas.pydata.org/pandas-docs/stable/user_guide/indexing.html#returning-a-view-versus-a-copy\n",
      "  sliced_df['Time'] = sliced_df['TIME'].dt.time\n",
      "C:\\Users\\ch335s\\AppData\\Local\\Temp\\ipykernel_11444\\3960158687.py:31: SettingWithCopyWarning: \n",
      "A value is trying to be set on a copy of a slice from a DataFrame.\n",
      "Try using .loc[row_indexer,col_indexer] = value instead\n",
      "\n",
      "See the caveats in the documentation: https://pandas.pydata.org/pandas-docs/stable/user_guide/indexing.html#returning-a-view-versus-a-copy\n",
      "  sliced_df['Hour'] = sliced_df['TIME'].dt.hour\n",
      "C:\\Users\\ch335s\\AppData\\Local\\Temp\\ipykernel_11444\\3960158687.py:29: SettingWithCopyWarning: \n",
      "A value is trying to be set on a copy of a slice from a DataFrame.\n",
      "Try using .loc[row_indexer,col_indexer] = value instead\n",
      "\n",
      "See the caveats in the documentation: https://pandas.pydata.org/pandas-docs/stable/user_guide/indexing.html#returning-a-view-versus-a-copy\n",
      "  sliced_df['Date'] = sliced_df['TIME'].dt.date\n",
      "C:\\Users\\ch335s\\AppData\\Local\\Temp\\ipykernel_11444\\3960158687.py:30: SettingWithCopyWarning: \n",
      "A value is trying to be set on a copy of a slice from a DataFrame.\n",
      "Try using .loc[row_indexer,col_indexer] = value instead\n",
      "\n",
      "See the caveats in the documentation: https://pandas.pydata.org/pandas-docs/stable/user_guide/indexing.html#returning-a-view-versus-a-copy\n",
      "  sliced_df['Time'] = sliced_df['TIME'].dt.time\n",
      "C:\\Users\\ch335s\\AppData\\Local\\Temp\\ipykernel_11444\\3960158687.py:31: SettingWithCopyWarning: \n",
      "A value is trying to be set on a copy of a slice from a DataFrame.\n",
      "Try using .loc[row_indexer,col_indexer] = value instead\n",
      "\n",
      "See the caveats in the documentation: https://pandas.pydata.org/pandas-docs/stable/user_guide/indexing.html#returning-a-view-versus-a-copy\n",
      "  sliced_df['Hour'] = sliced_df['TIME'].dt.hour\n",
      "C:\\Users\\ch335s\\AppData\\Local\\Temp\\ipykernel_11444\\3960158687.py:29: SettingWithCopyWarning: \n",
      "A value is trying to be set on a copy of a slice from a DataFrame.\n",
      "Try using .loc[row_indexer,col_indexer] = value instead\n",
      "\n",
      "See the caveats in the documentation: https://pandas.pydata.org/pandas-docs/stable/user_guide/indexing.html#returning-a-view-versus-a-copy\n",
      "  sliced_df['Date'] = sliced_df['TIME'].dt.date\n",
      "C:\\Users\\ch335s\\AppData\\Local\\Temp\\ipykernel_11444\\3960158687.py:30: SettingWithCopyWarning: \n",
      "A value is trying to be set on a copy of a slice from a DataFrame.\n",
      "Try using .loc[row_indexer,col_indexer] = value instead\n",
      "\n",
      "See the caveats in the documentation: https://pandas.pydata.org/pandas-docs/stable/user_guide/indexing.html#returning-a-view-versus-a-copy\n",
      "  sliced_df['Time'] = sliced_df['TIME'].dt.time\n",
      "C:\\Users\\ch335s\\AppData\\Local\\Temp\\ipykernel_11444\\3960158687.py:31: SettingWithCopyWarning: \n",
      "A value is trying to be set on a copy of a slice from a DataFrame.\n",
      "Try using .loc[row_indexer,col_indexer] = value instead\n",
      "\n",
      "See the caveats in the documentation: https://pandas.pydata.org/pandas-docs/stable/user_guide/indexing.html#returning-a-view-versus-a-copy\n",
      "  sliced_df['Hour'] = sliced_df['TIME'].dt.hour\n",
      "C:\\Users\\ch335s\\AppData\\Local\\Temp\\ipykernel_11444\\3960158687.py:29: SettingWithCopyWarning: \n",
      "A value is trying to be set on a copy of a slice from a DataFrame.\n",
      "Try using .loc[row_indexer,col_indexer] = value instead\n",
      "\n",
      "See the caveats in the documentation: https://pandas.pydata.org/pandas-docs/stable/user_guide/indexing.html#returning-a-view-versus-a-copy\n",
      "  sliced_df['Date'] = sliced_df['TIME'].dt.date\n",
      "C:\\Users\\ch335s\\AppData\\Local\\Temp\\ipykernel_11444\\3960158687.py:30: SettingWithCopyWarning: \n",
      "A value is trying to be set on a copy of a slice from a DataFrame.\n",
      "Try using .loc[row_indexer,col_indexer] = value instead\n",
      "\n",
      "See the caveats in the documentation: https://pandas.pydata.org/pandas-docs/stable/user_guide/indexing.html#returning-a-view-versus-a-copy\n",
      "  sliced_df['Time'] = sliced_df['TIME'].dt.time\n",
      "C:\\Users\\ch335s\\AppData\\Local\\Temp\\ipykernel_11444\\3960158687.py:31: SettingWithCopyWarning: \n",
      "A value is trying to be set on a copy of a slice from a DataFrame.\n",
      "Try using .loc[row_indexer,col_indexer] = value instead\n",
      "\n",
      "See the caveats in the documentation: https://pandas.pydata.org/pandas-docs/stable/user_guide/indexing.html#returning-a-view-versus-a-copy\n",
      "  sliced_df['Hour'] = sliced_df['TIME'].dt.hour\n",
      "C:\\Users\\ch335s\\AppData\\Local\\Temp\\ipykernel_11444\\3960158687.py:29: SettingWithCopyWarning: \n",
      "A value is trying to be set on a copy of a slice from a DataFrame.\n",
      "Try using .loc[row_indexer,col_indexer] = value instead\n",
      "\n",
      "See the caveats in the documentation: https://pandas.pydata.org/pandas-docs/stable/user_guide/indexing.html#returning-a-view-versus-a-copy\n",
      "  sliced_df['Date'] = sliced_df['TIME'].dt.date\n",
      "C:\\Users\\ch335s\\AppData\\Local\\Temp\\ipykernel_11444\\3960158687.py:30: SettingWithCopyWarning: \n",
      "A value is trying to be set on a copy of a slice from a DataFrame.\n",
      "Try using .loc[row_indexer,col_indexer] = value instead\n",
      "\n",
      "See the caveats in the documentation: https://pandas.pydata.org/pandas-docs/stable/user_guide/indexing.html#returning-a-view-versus-a-copy\n",
      "  sliced_df['Time'] = sliced_df['TIME'].dt.time\n",
      "C:\\Users\\ch335s\\AppData\\Local\\Temp\\ipykernel_11444\\3960158687.py:31: SettingWithCopyWarning: \n",
      "A value is trying to be set on a copy of a slice from a DataFrame.\n",
      "Try using .loc[row_indexer,col_indexer] = value instead\n",
      "\n",
      "See the caveats in the documentation: https://pandas.pydata.org/pandas-docs/stable/user_guide/indexing.html#returning-a-view-versus-a-copy\n",
      "  sliced_df['Hour'] = sliced_df['TIME'].dt.hour\n",
      "C:\\Users\\ch335s\\AppData\\Local\\Temp\\ipykernel_11444\\3960158687.py:29: SettingWithCopyWarning: \n",
      "A value is trying to be set on a copy of a slice from a DataFrame.\n",
      "Try using .loc[row_indexer,col_indexer] = value instead\n",
      "\n",
      "See the caveats in the documentation: https://pandas.pydata.org/pandas-docs/stable/user_guide/indexing.html#returning-a-view-versus-a-copy\n",
      "  sliced_df['Date'] = sliced_df['TIME'].dt.date\n",
      "C:\\Users\\ch335s\\AppData\\Local\\Temp\\ipykernel_11444\\3960158687.py:30: SettingWithCopyWarning: \n",
      "A value is trying to be set on a copy of a slice from a DataFrame.\n",
      "Try using .loc[row_indexer,col_indexer] = value instead\n",
      "\n",
      "See the caveats in the documentation: https://pandas.pydata.org/pandas-docs/stable/user_guide/indexing.html#returning-a-view-versus-a-copy\n",
      "  sliced_df['Time'] = sliced_df['TIME'].dt.time\n",
      "C:\\Users\\ch335s\\AppData\\Local\\Temp\\ipykernel_11444\\3960158687.py:31: SettingWithCopyWarning: \n",
      "A value is trying to be set on a copy of a slice from a DataFrame.\n",
      "Try using .loc[row_indexer,col_indexer] = value instead\n",
      "\n",
      "See the caveats in the documentation: https://pandas.pydata.org/pandas-docs/stable/user_guide/indexing.html#returning-a-view-versus-a-copy\n",
      "  sliced_df['Hour'] = sliced_df['TIME'].dt.hour\n",
      "C:\\Users\\ch335s\\AppData\\Local\\Temp\\ipykernel_11444\\3960158687.py:29: SettingWithCopyWarning: \n",
      "A value is trying to be set on a copy of a slice from a DataFrame.\n",
      "Try using .loc[row_indexer,col_indexer] = value instead\n",
      "\n",
      "See the caveats in the documentation: https://pandas.pydata.org/pandas-docs/stable/user_guide/indexing.html#returning-a-view-versus-a-copy\n",
      "  sliced_df['Date'] = sliced_df['TIME'].dt.date\n",
      "C:\\Users\\ch335s\\AppData\\Local\\Temp\\ipykernel_11444\\3960158687.py:30: SettingWithCopyWarning: \n",
      "A value is trying to be set on a copy of a slice from a DataFrame.\n",
      "Try using .loc[row_indexer,col_indexer] = value instead\n",
      "\n",
      "See the caveats in the documentation: https://pandas.pydata.org/pandas-docs/stable/user_guide/indexing.html#returning-a-view-versus-a-copy\n",
      "  sliced_df['Time'] = sliced_df['TIME'].dt.time\n",
      "C:\\Users\\ch335s\\AppData\\Local\\Temp\\ipykernel_11444\\3960158687.py:31: SettingWithCopyWarning: \n",
      "A value is trying to be set on a copy of a slice from a DataFrame.\n",
      "Try using .loc[row_indexer,col_indexer] = value instead\n",
      "\n",
      "See the caveats in the documentation: https://pandas.pydata.org/pandas-docs/stable/user_guide/indexing.html#returning-a-view-versus-a-copy\n",
      "  sliced_df['Hour'] = sliced_df['TIME'].dt.hour\n",
      "C:\\Users\\ch335s\\AppData\\Local\\Temp\\ipykernel_11444\\3960158687.py:29: SettingWithCopyWarning: \n",
      "A value is trying to be set on a copy of a slice from a DataFrame.\n",
      "Try using .loc[row_indexer,col_indexer] = value instead\n",
      "\n",
      "See the caveats in the documentation: https://pandas.pydata.org/pandas-docs/stable/user_guide/indexing.html#returning-a-view-versus-a-copy\n",
      "  sliced_df['Date'] = sliced_df['TIME'].dt.date\n",
      "C:\\Users\\ch335s\\AppData\\Local\\Temp\\ipykernel_11444\\3960158687.py:30: SettingWithCopyWarning: \n",
      "A value is trying to be set on a copy of a slice from a DataFrame.\n",
      "Try using .loc[row_indexer,col_indexer] = value instead\n",
      "\n",
      "See the caveats in the documentation: https://pandas.pydata.org/pandas-docs/stable/user_guide/indexing.html#returning-a-view-versus-a-copy\n",
      "  sliced_df['Time'] = sliced_df['TIME'].dt.time\n",
      "C:\\Users\\ch335s\\AppData\\Local\\Temp\\ipykernel_11444\\3960158687.py:31: SettingWithCopyWarning: \n",
      "A value is trying to be set on a copy of a slice from a DataFrame.\n",
      "Try using .loc[row_indexer,col_indexer] = value instead\n",
      "\n",
      "See the caveats in the documentation: https://pandas.pydata.org/pandas-docs/stable/user_guide/indexing.html#returning-a-view-versus-a-copy\n",
      "  sliced_df['Hour'] = sliced_df['TIME'].dt.hour\n",
      "C:\\Users\\ch335s\\AppData\\Local\\Temp\\ipykernel_11444\\3960158687.py:29: SettingWithCopyWarning: \n",
      "A value is trying to be set on a copy of a slice from a DataFrame.\n",
      "Try using .loc[row_indexer,col_indexer] = value instead\n",
      "\n",
      "See the caveats in the documentation: https://pandas.pydata.org/pandas-docs/stable/user_guide/indexing.html#returning-a-view-versus-a-copy\n",
      "  sliced_df['Date'] = sliced_df['TIME'].dt.date\n",
      "C:\\Users\\ch335s\\AppData\\Local\\Temp\\ipykernel_11444\\3960158687.py:30: SettingWithCopyWarning: \n",
      "A value is trying to be set on a copy of a slice from a DataFrame.\n",
      "Try using .loc[row_indexer,col_indexer] = value instead\n",
      "\n",
      "See the caveats in the documentation: https://pandas.pydata.org/pandas-docs/stable/user_guide/indexing.html#returning-a-view-versus-a-copy\n",
      "  sliced_df['Time'] = sliced_df['TIME'].dt.time\n",
      "C:\\Users\\ch335s\\AppData\\Local\\Temp\\ipykernel_11444\\3960158687.py:31: SettingWithCopyWarning: \n",
      "A value is trying to be set on a copy of a slice from a DataFrame.\n",
      "Try using .loc[row_indexer,col_indexer] = value instead\n",
      "\n",
      "See the caveats in the documentation: https://pandas.pydata.org/pandas-docs/stable/user_guide/indexing.html#returning-a-view-versus-a-copy\n",
      "  sliced_df['Hour'] = sliced_df['TIME'].dt.hour\n",
      "C:\\Users\\ch335s\\AppData\\Local\\Temp\\ipykernel_11444\\3960158687.py:29: SettingWithCopyWarning: \n",
      "A value is trying to be set on a copy of a slice from a DataFrame.\n",
      "Try using .loc[row_indexer,col_indexer] = value instead\n",
      "\n",
      "See the caveats in the documentation: https://pandas.pydata.org/pandas-docs/stable/user_guide/indexing.html#returning-a-view-versus-a-copy\n",
      "  sliced_df['Date'] = sliced_df['TIME'].dt.date\n",
      "C:\\Users\\ch335s\\AppData\\Local\\Temp\\ipykernel_11444\\3960158687.py:30: SettingWithCopyWarning: \n",
      "A value is trying to be set on a copy of a slice from a DataFrame.\n",
      "Try using .loc[row_indexer,col_indexer] = value instead\n",
      "\n",
      "See the caveats in the documentation: https://pandas.pydata.org/pandas-docs/stable/user_guide/indexing.html#returning-a-view-versus-a-copy\n",
      "  sliced_df['Time'] = sliced_df['TIME'].dt.time\n",
      "C:\\Users\\ch335s\\AppData\\Local\\Temp\\ipykernel_11444\\3960158687.py:31: SettingWithCopyWarning: \n",
      "A value is trying to be set on a copy of a slice from a DataFrame.\n",
      "Try using .loc[row_indexer,col_indexer] = value instead\n",
      "\n",
      "See the caveats in the documentation: https://pandas.pydata.org/pandas-docs/stable/user_guide/indexing.html#returning-a-view-versus-a-copy\n",
      "  sliced_df['Hour'] = sliced_df['TIME'].dt.hour\n",
      "C:\\Users\\ch335s\\AppData\\Local\\Temp\\ipykernel_11444\\3960158687.py:29: SettingWithCopyWarning: \n",
      "A value is trying to be set on a copy of a slice from a DataFrame.\n",
      "Try using .loc[row_indexer,col_indexer] = value instead\n",
      "\n",
      "See the caveats in the documentation: https://pandas.pydata.org/pandas-docs/stable/user_guide/indexing.html#returning-a-view-versus-a-copy\n",
      "  sliced_df['Date'] = sliced_df['TIME'].dt.date\n",
      "C:\\Users\\ch335s\\AppData\\Local\\Temp\\ipykernel_11444\\3960158687.py:30: SettingWithCopyWarning: \n",
      "A value is trying to be set on a copy of a slice from a DataFrame.\n",
      "Try using .loc[row_indexer,col_indexer] = value instead\n",
      "\n",
      "See the caveats in the documentation: https://pandas.pydata.org/pandas-docs/stable/user_guide/indexing.html#returning-a-view-versus-a-copy\n",
      "  sliced_df['Time'] = sliced_df['TIME'].dt.time\n",
      "C:\\Users\\ch335s\\AppData\\Local\\Temp\\ipykernel_11444\\3960158687.py:31: SettingWithCopyWarning: \n",
      "A value is trying to be set on a copy of a slice from a DataFrame.\n",
      "Try using .loc[row_indexer,col_indexer] = value instead\n",
      "\n",
      "See the caveats in the documentation: https://pandas.pydata.org/pandas-docs/stable/user_guide/indexing.html#returning-a-view-versus-a-copy\n",
      "  sliced_df['Hour'] = sliced_df['TIME'].dt.hour\n",
      "C:\\Users\\ch335s\\AppData\\Local\\Temp\\ipykernel_11444\\3960158687.py:29: SettingWithCopyWarning: \n",
      "A value is trying to be set on a copy of a slice from a DataFrame.\n",
      "Try using .loc[row_indexer,col_indexer] = value instead\n",
      "\n",
      "See the caveats in the documentation: https://pandas.pydata.org/pandas-docs/stable/user_guide/indexing.html#returning-a-view-versus-a-copy\n",
      "  sliced_df['Date'] = sliced_df['TIME'].dt.date\n",
      "C:\\Users\\ch335s\\AppData\\Local\\Temp\\ipykernel_11444\\3960158687.py:30: SettingWithCopyWarning: \n",
      "A value is trying to be set on a copy of a slice from a DataFrame.\n",
      "Try using .loc[row_indexer,col_indexer] = value instead\n",
      "\n",
      "See the caveats in the documentation: https://pandas.pydata.org/pandas-docs/stable/user_guide/indexing.html#returning-a-view-versus-a-copy\n",
      "  sliced_df['Time'] = sliced_df['TIME'].dt.time\n",
      "C:\\Users\\ch335s\\AppData\\Local\\Temp\\ipykernel_11444\\3960158687.py:31: SettingWithCopyWarning: \n",
      "A value is trying to be set on a copy of a slice from a DataFrame.\n",
      "Try using .loc[row_indexer,col_indexer] = value instead\n",
      "\n",
      "See the caveats in the documentation: https://pandas.pydata.org/pandas-docs/stable/user_guide/indexing.html#returning-a-view-versus-a-copy\n",
      "  sliced_df['Hour'] = sliced_df['TIME'].dt.hour\n",
      "C:\\Users\\ch335s\\AppData\\Local\\Temp\\ipykernel_11444\\3960158687.py:29: SettingWithCopyWarning: \n",
      "A value is trying to be set on a copy of a slice from a DataFrame.\n",
      "Try using .loc[row_indexer,col_indexer] = value instead\n",
      "\n",
      "See the caveats in the documentation: https://pandas.pydata.org/pandas-docs/stable/user_guide/indexing.html#returning-a-view-versus-a-copy\n",
      "  sliced_df['Date'] = sliced_df['TIME'].dt.date\n",
      "C:\\Users\\ch335s\\AppData\\Local\\Temp\\ipykernel_11444\\3960158687.py:30: SettingWithCopyWarning: \n",
      "A value is trying to be set on a copy of a slice from a DataFrame.\n",
      "Try using .loc[row_indexer,col_indexer] = value instead\n",
      "\n",
      "See the caveats in the documentation: https://pandas.pydata.org/pandas-docs/stable/user_guide/indexing.html#returning-a-view-versus-a-copy\n",
      "  sliced_df['Time'] = sliced_df['TIME'].dt.time\n",
      "C:\\Users\\ch335s\\AppData\\Local\\Temp\\ipykernel_11444\\3960158687.py:31: SettingWithCopyWarning: \n",
      "A value is trying to be set on a copy of a slice from a DataFrame.\n",
      "Try using .loc[row_indexer,col_indexer] = value instead\n",
      "\n",
      "See the caveats in the documentation: https://pandas.pydata.org/pandas-docs/stable/user_guide/indexing.html#returning-a-view-versus-a-copy\n",
      "  sliced_df['Hour'] = sliced_df['TIME'].dt.hour\n",
      "C:\\Users\\ch335s\\AppData\\Local\\Temp\\ipykernel_11444\\3960158687.py:29: SettingWithCopyWarning: \n",
      "A value is trying to be set on a copy of a slice from a DataFrame.\n",
      "Try using .loc[row_indexer,col_indexer] = value instead\n",
      "\n",
      "See the caveats in the documentation: https://pandas.pydata.org/pandas-docs/stable/user_guide/indexing.html#returning-a-view-versus-a-copy\n",
      "  sliced_df['Date'] = sliced_df['TIME'].dt.date\n",
      "C:\\Users\\ch335s\\AppData\\Local\\Temp\\ipykernel_11444\\3960158687.py:30: SettingWithCopyWarning: \n",
      "A value is trying to be set on a copy of a slice from a DataFrame.\n",
      "Try using .loc[row_indexer,col_indexer] = value instead\n",
      "\n",
      "See the caveats in the documentation: https://pandas.pydata.org/pandas-docs/stable/user_guide/indexing.html#returning-a-view-versus-a-copy\n",
      "  sliced_df['Time'] = sliced_df['TIME'].dt.time\n",
      "C:\\Users\\ch335s\\AppData\\Local\\Temp\\ipykernel_11444\\3960158687.py:31: SettingWithCopyWarning: \n",
      "A value is trying to be set on a copy of a slice from a DataFrame.\n",
      "Try using .loc[row_indexer,col_indexer] = value instead\n",
      "\n",
      "See the caveats in the documentation: https://pandas.pydata.org/pandas-docs/stable/user_guide/indexing.html#returning-a-view-versus-a-copy\n",
      "  sliced_df['Hour'] = sliced_df['TIME'].dt.hour\n",
      "C:\\Users\\ch335s\\AppData\\Local\\Temp\\ipykernel_11444\\3960158687.py:29: SettingWithCopyWarning: \n",
      "A value is trying to be set on a copy of a slice from a DataFrame.\n",
      "Try using .loc[row_indexer,col_indexer] = value instead\n",
      "\n",
      "See the caveats in the documentation: https://pandas.pydata.org/pandas-docs/stable/user_guide/indexing.html#returning-a-view-versus-a-copy\n",
      "  sliced_df['Date'] = sliced_df['TIME'].dt.date\n",
      "C:\\Users\\ch335s\\AppData\\Local\\Temp\\ipykernel_11444\\3960158687.py:30: SettingWithCopyWarning: \n",
      "A value is trying to be set on a copy of a slice from a DataFrame.\n",
      "Try using .loc[row_indexer,col_indexer] = value instead\n",
      "\n",
      "See the caveats in the documentation: https://pandas.pydata.org/pandas-docs/stable/user_guide/indexing.html#returning-a-view-versus-a-copy\n",
      "  sliced_df['Time'] = sliced_df['TIME'].dt.time\n",
      "C:\\Users\\ch335s\\AppData\\Local\\Temp\\ipykernel_11444\\3960158687.py:31: SettingWithCopyWarning: \n",
      "A value is trying to be set on a copy of a slice from a DataFrame.\n",
      "Try using .loc[row_indexer,col_indexer] = value instead\n",
      "\n",
      "See the caveats in the documentation: https://pandas.pydata.org/pandas-docs/stable/user_guide/indexing.html#returning-a-view-versus-a-copy\n",
      "  sliced_df['Hour'] = sliced_df['TIME'].dt.hour\n",
      "C:\\Users\\ch335s\\AppData\\Local\\Temp\\ipykernel_11444\\3960158687.py:29: SettingWithCopyWarning: \n",
      "A value is trying to be set on a copy of a slice from a DataFrame.\n",
      "Try using .loc[row_indexer,col_indexer] = value instead\n",
      "\n",
      "See the caveats in the documentation: https://pandas.pydata.org/pandas-docs/stable/user_guide/indexing.html#returning-a-view-versus-a-copy\n",
      "  sliced_df['Date'] = sliced_df['TIME'].dt.date\n",
      "C:\\Users\\ch335s\\AppData\\Local\\Temp\\ipykernel_11444\\3960158687.py:30: SettingWithCopyWarning: \n",
      "A value is trying to be set on a copy of a slice from a DataFrame.\n",
      "Try using .loc[row_indexer,col_indexer] = value instead\n",
      "\n",
      "See the caveats in the documentation: https://pandas.pydata.org/pandas-docs/stable/user_guide/indexing.html#returning-a-view-versus-a-copy\n",
      "  sliced_df['Time'] = sliced_df['TIME'].dt.time\n",
      "C:\\Users\\ch335s\\AppData\\Local\\Temp\\ipykernel_11444\\3960158687.py:31: SettingWithCopyWarning: \n",
      "A value is trying to be set on a copy of a slice from a DataFrame.\n",
      "Try using .loc[row_indexer,col_indexer] = value instead\n",
      "\n",
      "See the caveats in the documentation: https://pandas.pydata.org/pandas-docs/stable/user_guide/indexing.html#returning-a-view-versus-a-copy\n",
      "  sliced_df['Hour'] = sliced_df['TIME'].dt.hour\n",
      "C:\\Users\\ch335s\\AppData\\Local\\Temp\\ipykernel_11444\\3960158687.py:29: SettingWithCopyWarning: \n",
      "A value is trying to be set on a copy of a slice from a DataFrame.\n",
      "Try using .loc[row_indexer,col_indexer] = value instead\n",
      "\n",
      "See the caveats in the documentation: https://pandas.pydata.org/pandas-docs/stable/user_guide/indexing.html#returning-a-view-versus-a-copy\n",
      "  sliced_df['Date'] = sliced_df['TIME'].dt.date\n",
      "C:\\Users\\ch335s\\AppData\\Local\\Temp\\ipykernel_11444\\3960158687.py:30: SettingWithCopyWarning: \n",
      "A value is trying to be set on a copy of a slice from a DataFrame.\n",
      "Try using .loc[row_indexer,col_indexer] = value instead\n",
      "\n",
      "See the caveats in the documentation: https://pandas.pydata.org/pandas-docs/stable/user_guide/indexing.html#returning-a-view-versus-a-copy\n",
      "  sliced_df['Time'] = sliced_df['TIME'].dt.time\n",
      "C:\\Users\\ch335s\\AppData\\Local\\Temp\\ipykernel_11444\\3960158687.py:31: SettingWithCopyWarning: \n",
      "A value is trying to be set on a copy of a slice from a DataFrame.\n",
      "Try using .loc[row_indexer,col_indexer] = value instead\n",
      "\n",
      "See the caveats in the documentation: https://pandas.pydata.org/pandas-docs/stable/user_guide/indexing.html#returning-a-view-versus-a-copy\n",
      "  sliced_df['Hour'] = sliced_df['TIME'].dt.hour\n",
      "C:\\Users\\ch335s\\AppData\\Local\\Temp\\ipykernel_11444\\3960158687.py:29: SettingWithCopyWarning: \n",
      "A value is trying to be set on a copy of a slice from a DataFrame.\n",
      "Try using .loc[row_indexer,col_indexer] = value instead\n",
      "\n",
      "See the caveats in the documentation: https://pandas.pydata.org/pandas-docs/stable/user_guide/indexing.html#returning-a-view-versus-a-copy\n",
      "  sliced_df['Date'] = sliced_df['TIME'].dt.date\n",
      "C:\\Users\\ch335s\\AppData\\Local\\Temp\\ipykernel_11444\\3960158687.py:30: SettingWithCopyWarning: \n",
      "A value is trying to be set on a copy of a slice from a DataFrame.\n",
      "Try using .loc[row_indexer,col_indexer] = value instead\n",
      "\n",
      "See the caveats in the documentation: https://pandas.pydata.org/pandas-docs/stable/user_guide/indexing.html#returning-a-view-versus-a-copy\n",
      "  sliced_df['Time'] = sliced_df['TIME'].dt.time\n",
      "C:\\Users\\ch335s\\AppData\\Local\\Temp\\ipykernel_11444\\3960158687.py:31: SettingWithCopyWarning: \n",
      "A value is trying to be set on a copy of a slice from a DataFrame.\n",
      "Try using .loc[row_indexer,col_indexer] = value instead\n",
      "\n",
      "See the caveats in the documentation: https://pandas.pydata.org/pandas-docs/stable/user_guide/indexing.html#returning-a-view-versus-a-copy\n",
      "  sliced_df['Hour'] = sliced_df['TIME'].dt.hour\n",
      "C:\\Users\\ch335s\\AppData\\Local\\Temp\\ipykernel_11444\\3960158687.py:29: SettingWithCopyWarning: \n",
      "A value is trying to be set on a copy of a slice from a DataFrame.\n",
      "Try using .loc[row_indexer,col_indexer] = value instead\n",
      "\n",
      "See the caveats in the documentation: https://pandas.pydata.org/pandas-docs/stable/user_guide/indexing.html#returning-a-view-versus-a-copy\n",
      "  sliced_df['Date'] = sliced_df['TIME'].dt.date\n",
      "C:\\Users\\ch335s\\AppData\\Local\\Temp\\ipykernel_11444\\3960158687.py:30: SettingWithCopyWarning: \n",
      "A value is trying to be set on a copy of a slice from a DataFrame.\n",
      "Try using .loc[row_indexer,col_indexer] = value instead\n",
      "\n",
      "See the caveats in the documentation: https://pandas.pydata.org/pandas-docs/stable/user_guide/indexing.html#returning-a-view-versus-a-copy\n",
      "  sliced_df['Time'] = sliced_df['TIME'].dt.time\n",
      "C:\\Users\\ch335s\\AppData\\Local\\Temp\\ipykernel_11444\\3960158687.py:31: SettingWithCopyWarning: \n",
      "A value is trying to be set on a copy of a slice from a DataFrame.\n",
      "Try using .loc[row_indexer,col_indexer] = value instead\n",
      "\n",
      "See the caveats in the documentation: https://pandas.pydata.org/pandas-docs/stable/user_guide/indexing.html#returning-a-view-versus-a-copy\n",
      "  sliced_df['Hour'] = sliced_df['TIME'].dt.hour\n",
      "C:\\Users\\ch335s\\AppData\\Local\\Temp\\ipykernel_11444\\3960158687.py:29: SettingWithCopyWarning: \n",
      "A value is trying to be set on a copy of a slice from a DataFrame.\n",
      "Try using .loc[row_indexer,col_indexer] = value instead\n",
      "\n",
      "See the caveats in the documentation: https://pandas.pydata.org/pandas-docs/stable/user_guide/indexing.html#returning-a-view-versus-a-copy\n",
      "  sliced_df['Date'] = sliced_df['TIME'].dt.date\n",
      "C:\\Users\\ch335s\\AppData\\Local\\Temp\\ipykernel_11444\\3960158687.py:30: SettingWithCopyWarning: \n",
      "A value is trying to be set on a copy of a slice from a DataFrame.\n",
      "Try using .loc[row_indexer,col_indexer] = value instead\n",
      "\n",
      "See the caveats in the documentation: https://pandas.pydata.org/pandas-docs/stable/user_guide/indexing.html#returning-a-view-versus-a-copy\n",
      "  sliced_df['Time'] = sliced_df['TIME'].dt.time\n",
      "C:\\Users\\ch335s\\AppData\\Local\\Temp\\ipykernel_11444\\3960158687.py:31: SettingWithCopyWarning: \n",
      "A value is trying to be set on a copy of a slice from a DataFrame.\n",
      "Try using .loc[row_indexer,col_indexer] = value instead\n",
      "\n",
      "See the caveats in the documentation: https://pandas.pydata.org/pandas-docs/stable/user_guide/indexing.html#returning-a-view-versus-a-copy\n",
      "  sliced_df['Hour'] = sliced_df['TIME'].dt.hour\n",
      "C:\\Users\\ch335s\\AppData\\Local\\Temp\\ipykernel_11444\\3960158687.py:29: SettingWithCopyWarning: \n",
      "A value is trying to be set on a copy of a slice from a DataFrame.\n",
      "Try using .loc[row_indexer,col_indexer] = value instead\n",
      "\n",
      "See the caveats in the documentation: https://pandas.pydata.org/pandas-docs/stable/user_guide/indexing.html#returning-a-view-versus-a-copy\n",
      "  sliced_df['Date'] = sliced_df['TIME'].dt.date\n",
      "C:\\Users\\ch335s\\AppData\\Local\\Temp\\ipykernel_11444\\3960158687.py:30: SettingWithCopyWarning: \n",
      "A value is trying to be set on a copy of a slice from a DataFrame.\n",
      "Try using .loc[row_indexer,col_indexer] = value instead\n",
      "\n",
      "See the caveats in the documentation: https://pandas.pydata.org/pandas-docs/stable/user_guide/indexing.html#returning-a-view-versus-a-copy\n",
      "  sliced_df['Time'] = sliced_df['TIME'].dt.time\n",
      "C:\\Users\\ch335s\\AppData\\Local\\Temp\\ipykernel_11444\\3960158687.py:31: SettingWithCopyWarning: \n",
      "A value is trying to be set on a copy of a slice from a DataFrame.\n",
      "Try using .loc[row_indexer,col_indexer] = value instead\n",
      "\n",
      "See the caveats in the documentation: https://pandas.pydata.org/pandas-docs/stable/user_guide/indexing.html#returning-a-view-versus-a-copy\n",
      "  sliced_df['Hour'] = sliced_df['TIME'].dt.hour\n",
      "C:\\Users\\ch335s\\AppData\\Local\\Temp\\ipykernel_11444\\3960158687.py:29: SettingWithCopyWarning: \n",
      "A value is trying to be set on a copy of a slice from a DataFrame.\n",
      "Try using .loc[row_indexer,col_indexer] = value instead\n",
      "\n",
      "See the caveats in the documentation: https://pandas.pydata.org/pandas-docs/stable/user_guide/indexing.html#returning-a-view-versus-a-copy\n",
      "  sliced_df['Date'] = sliced_df['TIME'].dt.date\n",
      "C:\\Users\\ch335s\\AppData\\Local\\Temp\\ipykernel_11444\\3960158687.py:30: SettingWithCopyWarning: \n",
      "A value is trying to be set on a copy of a slice from a DataFrame.\n",
      "Try using .loc[row_indexer,col_indexer] = value instead\n",
      "\n",
      "See the caveats in the documentation: https://pandas.pydata.org/pandas-docs/stable/user_guide/indexing.html#returning-a-view-versus-a-copy\n",
      "  sliced_df['Time'] = sliced_df['TIME'].dt.time\n",
      "C:\\Users\\ch335s\\AppData\\Local\\Temp\\ipykernel_11444\\3960158687.py:31: SettingWithCopyWarning: \n",
      "A value is trying to be set on a copy of a slice from a DataFrame.\n",
      "Try using .loc[row_indexer,col_indexer] = value instead\n",
      "\n",
      "See the caveats in the documentation: https://pandas.pydata.org/pandas-docs/stable/user_guide/indexing.html#returning-a-view-versus-a-copy\n",
      "  sliced_df['Hour'] = sliced_df['TIME'].dt.hour\n",
      "C:\\Users\\ch335s\\AppData\\Local\\Temp\\ipykernel_11444\\3960158687.py:29: SettingWithCopyWarning: \n",
      "A value is trying to be set on a copy of a slice from a DataFrame.\n",
      "Try using .loc[row_indexer,col_indexer] = value instead\n",
      "\n",
      "See the caveats in the documentation: https://pandas.pydata.org/pandas-docs/stable/user_guide/indexing.html#returning-a-view-versus-a-copy\n",
      "  sliced_df['Date'] = sliced_df['TIME'].dt.date\n",
      "C:\\Users\\ch335s\\AppData\\Local\\Temp\\ipykernel_11444\\3960158687.py:30: SettingWithCopyWarning: \n",
      "A value is trying to be set on a copy of a slice from a DataFrame.\n",
      "Try using .loc[row_indexer,col_indexer] = value instead\n",
      "\n",
      "See the caveats in the documentation: https://pandas.pydata.org/pandas-docs/stable/user_guide/indexing.html#returning-a-view-versus-a-copy\n",
      "  sliced_df['Time'] = sliced_df['TIME'].dt.time\n",
      "C:\\Users\\ch335s\\AppData\\Local\\Temp\\ipykernel_11444\\3960158687.py:31: SettingWithCopyWarning: \n",
      "A value is trying to be set on a copy of a slice from a DataFrame.\n",
      "Try using .loc[row_indexer,col_indexer] = value instead\n",
      "\n",
      "See the caveats in the documentation: https://pandas.pydata.org/pandas-docs/stable/user_guide/indexing.html#returning-a-view-versus-a-copy\n",
      "  sliced_df['Hour'] = sliced_df['TIME'].dt.hour\n",
      "C:\\Users\\ch335s\\AppData\\Local\\Temp\\ipykernel_11444\\3960158687.py:29: SettingWithCopyWarning: \n",
      "A value is trying to be set on a copy of a slice from a DataFrame.\n",
      "Try using .loc[row_indexer,col_indexer] = value instead\n",
      "\n",
      "See the caveats in the documentation: https://pandas.pydata.org/pandas-docs/stable/user_guide/indexing.html#returning-a-view-versus-a-copy\n",
      "  sliced_df['Date'] = sliced_df['TIME'].dt.date\n",
      "C:\\Users\\ch335s\\AppData\\Local\\Temp\\ipykernel_11444\\3960158687.py:30: SettingWithCopyWarning: \n",
      "A value is trying to be set on a copy of a slice from a DataFrame.\n",
      "Try using .loc[row_indexer,col_indexer] = value instead\n",
      "\n",
      "See the caveats in the documentation: https://pandas.pydata.org/pandas-docs/stable/user_guide/indexing.html#returning-a-view-versus-a-copy\n",
      "  sliced_df['Time'] = sliced_df['TIME'].dt.time\n",
      "C:\\Users\\ch335s\\AppData\\Local\\Temp\\ipykernel_11444\\3960158687.py:31: SettingWithCopyWarning: \n",
      "A value is trying to be set on a copy of a slice from a DataFrame.\n",
      "Try using .loc[row_indexer,col_indexer] = value instead\n",
      "\n",
      "See the caveats in the documentation: https://pandas.pydata.org/pandas-docs/stable/user_guide/indexing.html#returning-a-view-versus-a-copy\n",
      "  sliced_df['Hour'] = sliced_df['TIME'].dt.hour\n",
      "C:\\Users\\ch335s\\AppData\\Local\\Temp\\ipykernel_11444\\3960158687.py:29: SettingWithCopyWarning: \n",
      "A value is trying to be set on a copy of a slice from a DataFrame.\n",
      "Try using .loc[row_indexer,col_indexer] = value instead\n",
      "\n",
      "See the caveats in the documentation: https://pandas.pydata.org/pandas-docs/stable/user_guide/indexing.html#returning-a-view-versus-a-copy\n",
      "  sliced_df['Date'] = sliced_df['TIME'].dt.date\n",
      "C:\\Users\\ch335s\\AppData\\Local\\Temp\\ipykernel_11444\\3960158687.py:30: SettingWithCopyWarning: \n",
      "A value is trying to be set on a copy of a slice from a DataFrame.\n",
      "Try using .loc[row_indexer,col_indexer] = value instead\n",
      "\n",
      "See the caveats in the documentation: https://pandas.pydata.org/pandas-docs/stable/user_guide/indexing.html#returning-a-view-versus-a-copy\n",
      "  sliced_df['Time'] = sliced_df['TIME'].dt.time\n",
      "C:\\Users\\ch335s\\AppData\\Local\\Temp\\ipykernel_11444\\3960158687.py:31: SettingWithCopyWarning: \n",
      "A value is trying to be set on a copy of a slice from a DataFrame.\n",
      "Try using .loc[row_indexer,col_indexer] = value instead\n",
      "\n",
      "See the caveats in the documentation: https://pandas.pydata.org/pandas-docs/stable/user_guide/indexing.html#returning-a-view-versus-a-copy\n",
      "  sliced_df['Hour'] = sliced_df['TIME'].dt.hour\n",
      "C:\\Users\\ch335s\\AppData\\Local\\Temp\\ipykernel_11444\\3960158687.py:29: SettingWithCopyWarning: \n",
      "A value is trying to be set on a copy of a slice from a DataFrame.\n",
      "Try using .loc[row_indexer,col_indexer] = value instead\n",
      "\n",
      "See the caveats in the documentation: https://pandas.pydata.org/pandas-docs/stable/user_guide/indexing.html#returning-a-view-versus-a-copy\n",
      "  sliced_df['Date'] = sliced_df['TIME'].dt.date\n",
      "C:\\Users\\ch335s\\AppData\\Local\\Temp\\ipykernel_11444\\3960158687.py:30: SettingWithCopyWarning: \n",
      "A value is trying to be set on a copy of a slice from a DataFrame.\n",
      "Try using .loc[row_indexer,col_indexer] = value instead\n",
      "\n",
      "See the caveats in the documentation: https://pandas.pydata.org/pandas-docs/stable/user_guide/indexing.html#returning-a-view-versus-a-copy\n",
      "  sliced_df['Time'] = sliced_df['TIME'].dt.time\n",
      "C:\\Users\\ch335s\\AppData\\Local\\Temp\\ipykernel_11444\\3960158687.py:31: SettingWithCopyWarning: \n",
      "A value is trying to be set on a copy of a slice from a DataFrame.\n",
      "Try using .loc[row_indexer,col_indexer] = value instead\n",
      "\n",
      "See the caveats in the documentation: https://pandas.pydata.org/pandas-docs/stable/user_guide/indexing.html#returning-a-view-versus-a-copy\n",
      "  sliced_df['Hour'] = sliced_df['TIME'].dt.hour\n",
      "C:\\Users\\ch335s\\AppData\\Local\\Temp\\ipykernel_11444\\3960158687.py:29: SettingWithCopyWarning: \n",
      "A value is trying to be set on a copy of a slice from a DataFrame.\n",
      "Try using .loc[row_indexer,col_indexer] = value instead\n",
      "\n",
      "See the caveats in the documentation: https://pandas.pydata.org/pandas-docs/stable/user_guide/indexing.html#returning-a-view-versus-a-copy\n",
      "  sliced_df['Date'] = sliced_df['TIME'].dt.date\n",
      "C:\\Users\\ch335s\\AppData\\Local\\Temp\\ipykernel_11444\\3960158687.py:30: SettingWithCopyWarning: \n",
      "A value is trying to be set on a copy of a slice from a DataFrame.\n",
      "Try using .loc[row_indexer,col_indexer] = value instead\n",
      "\n",
      "See the caveats in the documentation: https://pandas.pydata.org/pandas-docs/stable/user_guide/indexing.html#returning-a-view-versus-a-copy\n",
      "  sliced_df['Time'] = sliced_df['TIME'].dt.time\n",
      "C:\\Users\\ch335s\\AppData\\Local\\Temp\\ipykernel_11444\\3960158687.py:31: SettingWithCopyWarning: \n",
      "A value is trying to be set on a copy of a slice from a DataFrame.\n",
      "Try using .loc[row_indexer,col_indexer] = value instead\n",
      "\n",
      "See the caveats in the documentation: https://pandas.pydata.org/pandas-docs/stable/user_guide/indexing.html#returning-a-view-versus-a-copy\n",
      "  sliced_df['Hour'] = sliced_df['TIME'].dt.hour\n",
      "C:\\Users\\ch335s\\AppData\\Local\\Temp\\ipykernel_11444\\3960158687.py:29: SettingWithCopyWarning: \n",
      "A value is trying to be set on a copy of a slice from a DataFrame.\n",
      "Try using .loc[row_indexer,col_indexer] = value instead\n",
      "\n",
      "See the caveats in the documentation: https://pandas.pydata.org/pandas-docs/stable/user_guide/indexing.html#returning-a-view-versus-a-copy\n",
      "  sliced_df['Date'] = sliced_df['TIME'].dt.date\n",
      "C:\\Users\\ch335s\\AppData\\Local\\Temp\\ipykernel_11444\\3960158687.py:30: SettingWithCopyWarning: \n",
      "A value is trying to be set on a copy of a slice from a DataFrame.\n",
      "Try using .loc[row_indexer,col_indexer] = value instead\n",
      "\n",
      "See the caveats in the documentation: https://pandas.pydata.org/pandas-docs/stable/user_guide/indexing.html#returning-a-view-versus-a-copy\n",
      "  sliced_df['Time'] = sliced_df['TIME'].dt.time\n",
      "C:\\Users\\ch335s\\AppData\\Local\\Temp\\ipykernel_11444\\3960158687.py:31: SettingWithCopyWarning: \n",
      "A value is trying to be set on a copy of a slice from a DataFrame.\n",
      "Try using .loc[row_indexer,col_indexer] = value instead\n",
      "\n",
      "See the caveats in the documentation: https://pandas.pydata.org/pandas-docs/stable/user_guide/indexing.html#returning-a-view-versus-a-copy\n",
      "  sliced_df['Hour'] = sliced_df['TIME'].dt.hour\n"
     ]
    },
    {
     "name": "stdout",
     "output_type": "stream",
     "text": [
      "      count       mean       std    min     25%    50%    75%    max  \\\n",
      "0   54906.0  24.414297  2.019142  20.52  23.050  23.97  25.39  30.25   \n",
      "1   70281.0  25.562214  1.266366  20.54  24.760  25.46  26.32  29.19   \n",
      "2   56718.0  23.537636  1.763632  20.00  22.160  23.37  24.70  30.70   \n",
      "3   56919.0  25.728024  1.696041  22.02  24.270  25.77  26.90  30.40   \n",
      "4   64961.0  25.067441  1.384199  18.98  24.260  25.23  25.83  28.86   \n",
      "5    1905.0  22.838919  0.794798  21.45  22.160  22.95  23.49  24.27   \n",
      "6   67838.0  22.689428  1.106300  20.57  21.960  22.53  23.38  25.96   \n",
      "7   52662.0  23.812827  2.498582  18.27  21.550  23.90  25.56  31.76   \n",
      "8   55489.0  23.142175  1.767700  18.30  21.840  23.12  24.18  28.12   \n",
      "9   69039.0  23.306204  2.355669  18.47  21.460  23.10  24.81  31.45   \n",
      "10  64624.0  24.214287  1.262814  19.94  23.490  24.32  24.98  27.27   \n",
      "11  50095.0  24.828931  1.462743  21.89  23.510  24.94  25.82  28.07   \n",
      "12  52417.0  23.534161  2.378468  19.20  21.700  23.45  24.77  29.74   \n",
      "13  10265.0  26.724364  1.851601  23.34  24.470  27.51  28.02  30.21   \n",
      "14  74880.0  24.371238  1.781025  20.55  23.020  24.43  25.31  28.77   \n",
      "15  64030.0  21.726997  1.356011  18.93  20.730  21.52  22.27  25.93   \n",
      "16  61895.0  25.059203  1.853706  20.62  23.730  24.82  25.96  30.82   \n",
      "17  68287.0  22.969706  1.332545  20.28  21.960  22.95  23.61  26.62   \n",
      "18  54673.0  23.459063  1.767827  20.27  22.180  23.32  24.29  28.23   \n",
      "19  53645.0  27.098864  1.282466  24.23  26.090  27.11  28.00  30.15   \n",
      "20  74549.0  22.078413  1.746572  18.41  20.720  21.94  23.02  26.95   \n",
      "21  49610.0  24.320605  1.984207  19.98  23.080  24.42  25.51  29.41   \n",
      "22  52128.0  21.814331  1.856223  17.18  20.530  21.65  22.76  27.06   \n",
      "23  63230.0  24.752530  1.552284  19.84  23.720  24.64  25.76  29.16   \n",
      "24  56382.0  23.851260  1.862667  19.40  22.640  23.66  24.96  29.03   \n",
      "25  56260.0  23.701920  0.919710  21.35  23.060  23.57  24.17  26.11   \n",
      "26  61782.0  23.956082  2.220351  19.83  22.350  23.69  25.31  30.60   \n",
      "27  62551.0  25.116307  1.704536  21.72  23.940  25.15  26.06  29.58   \n",
      "28  59512.0  25.874806  1.711160  22.59  24.510  25.44  27.18  30.91   \n",
      "29  54435.0  24.603406  1.708003  21.82  23.120  24.53  25.59  29.38   \n",
      "30  62165.0  24.910916  1.289801  22.48  23.880  25.09  25.85  28.30   \n",
      "31  56226.0  23.757599  1.826940  20.13  22.560  23.39  24.24  29.19   \n",
      "32  55158.0  24.647445  4.368370  16.93  21.760  23.73  26.49  47.40   \n",
      "33  55357.0  23.473933  1.737512  18.40  22.380  23.21  24.33  27.92   \n",
      "34  33276.0  24.074923  1.101605  21.18  23.390  24.20  24.80  26.55   \n",
      "35  57488.0  22.567211  1.634150  19.47  21.285  22.51  23.27  27.93   \n",
      "36  55640.0  22.568058  1.708477  18.32  21.240  22.27  23.73  27.03   \n",
      "37  56528.0  23.726614  2.153434  17.98  22.210  23.53  25.02  29.49   \n",
      "38  54743.0  23.129297  2.078675  19.31  21.550  23.05  24.42  28.71   \n",
      "39  50731.0  21.798360  1.451028  18.82  20.730  21.69  22.52  26.41   \n",
      "\n",
      "          ID  heat_period  recored_periods  \n",
      "0   BL007-02            8               40  \n",
      "1   BL007-04           29               49  \n",
      "2   BL007-07            7               41  \n",
      "3   BL007-09           26               40  \n",
      "4   BL007-13           18               46  \n",
      "5   BL007-14            0                2  \n",
      "6   BL007-15            0               48  \n",
      "7   BL007-17            8               39  \n",
      "8   BL007-18            5               39  \n",
      "9   BL007-19            6               49  \n",
      "10  BL007-22            6               47  \n",
      "11  BL007-23           16               36  \n",
      "12  BL007-25            8               38  \n",
      "13  BL007-28            5                9  \n",
      "14  BL007-31            9               53  \n",
      "15  BL007-32            0               45  \n",
      "16  BL007-33           18               44  \n",
      "17  BL007-34            4               48  \n",
      "18  BL007-35            7               43  \n",
      "19  BL007-36           38               40  \n",
      "20  BL007-39            5               53  \n",
      "21  BL007-40            8               35  \n",
      "22  BL007-42            0               37  \n",
      "23  BL007-43           14               45  \n",
      "24  BL007-44            7               40  \n",
      "25  BL007-45            4               40  \n",
      "26  BL007-46            9               44  \n",
      "27  BL007-47           18               44  \n",
      "28  BL007-48           21               42  \n",
      "29  BL007-49            9               39  \n",
      "30  BL007-50           23               44  \n",
      "31  BL007-51            7               39  \n",
      "32  BL007-52           10               40  \n",
      "33  BL007-54            7               39  \n",
      "34  BL007-56            0               24  \n",
      "35  BL007-57            5               42  \n",
      "36  BL007-59            0               39  \n",
      "37  BL007-64            6               40  \n",
      "38  BL007-66            6               39  \n",
      "39  BL007-67            0               37  \n"
     ]
    },
    {
     "name": "stderr",
     "output_type": "stream",
     "text": [
      "C:\\Users\\ch335s\\AppData\\Local\\Temp\\ipykernel_11444\\3960158687.py:29: SettingWithCopyWarning: \n",
      "A value is trying to be set on a copy of a slice from a DataFrame.\n",
      "Try using .loc[row_indexer,col_indexer] = value instead\n",
      "\n",
      "See the caveats in the documentation: https://pandas.pydata.org/pandas-docs/stable/user_guide/indexing.html#returning-a-view-versus-a-copy\n",
      "  sliced_df['Date'] = sliced_df['TIME'].dt.date\n",
      "C:\\Users\\ch335s\\AppData\\Local\\Temp\\ipykernel_11444\\3960158687.py:30: SettingWithCopyWarning: \n",
      "A value is trying to be set on a copy of a slice from a DataFrame.\n",
      "Try using .loc[row_indexer,col_indexer] = value instead\n",
      "\n",
      "See the caveats in the documentation: https://pandas.pydata.org/pandas-docs/stable/user_guide/indexing.html#returning-a-view-versus-a-copy\n",
      "  sliced_df['Time'] = sliced_df['TIME'].dt.time\n",
      "C:\\Users\\ch335s\\AppData\\Local\\Temp\\ipykernel_11444\\3960158687.py:31: SettingWithCopyWarning: \n",
      "A value is trying to be set on a copy of a slice from a DataFrame.\n",
      "Try using .loc[row_indexer,col_indexer] = value instead\n",
      "\n",
      "See the caveats in the documentation: https://pandas.pydata.org/pandas-docs/stable/user_guide/indexing.html#returning-a-view-versus-a-copy\n",
      "  sliced_df['Hour'] = sliced_df['TIME'].dt.hour\n"
     ]
    }
   ],
   "source": [
    "description_dfs = []\n",
    "\n",
    "\n",
    "# Iterate over each sensor\n",
    "for sensor_id in ID_list:\n",
    "    try:\n",
    "        df = pd.read_csv('Data/Household Indoor Sensor Measurement Data/'+sensor_id+'.csv')\n",
    "\n",
    "        # Convert field to datetime type\n",
    "        df['TIME'] = pd.to_datetime(df['TIME'])\n",
    "        df['TIME'] = df['TIME']\n",
    "\n",
    "        selected_sensor = df_ID_time[df_ID_time['ID'] == sensor_id]\n",
    "            \n",
    "        if pd.notnull(selected_sensor['Battery Charging Start Time']).any():\n",
    "            start_date = selected_sensor['Battery Charging Start Time'] + pd.Timedelta(hours=1)\n",
    "            # Delay 1 hour to allow the sensor settled in the indoor condition and improve the accuracy of indoor temperature measurements\n",
    "            end_date = selected_sensor['Battery Charging End Time']\n",
    "        else:\n",
    "            start_date = selected_sensor['Recording Start Time (Participant) ']\n",
    "            end_date = selected_sensor['Recording End Time (Participant) '] \n",
    "            \n",
    "        start_date_value = start_date.iloc[0]\n",
    "        end_date_value = end_date.iloc[0]\n",
    "\n",
    "        sliced_df = df[(df['TIME'] >= start_date_value) & (df['TIME'] <= end_date_value)]\n",
    "\n",
    "        # Extract the date, time, and hour from the timestamp\n",
    "        sliced_df['Date'] = sliced_df['TIME'].dt.date\n",
    "        sliced_df['Time'] = sliced_df['TIME'].dt.time\n",
    "        sliced_df['Hour'] = sliced_df['TIME'].dt.hour\n",
    "        \n",
    "\n",
    "        # Temperature statistics\n",
    "        description = sliced_df['TEMP'].describe()\n",
    "        description_df = pd.DataFrame(description)\n",
    "        description_df = description_df.T\n",
    "        description_df.reset_index(drop=True, inplace=True)\n",
    "        description_df['ID'] = sensor_id\n",
    "        \n",
    "        # Add heat period days in DataFrame\n",
    "        # Calculate rolling mean over a 3-day window\n",
    "        rolling_mean = sliced_df['TEMP'].rolling(1440, center=True).mean()\n",
    "        # Define a threshold temperature for identifying heat periods\n",
    "        threshold_temp = 25\n",
    "        # Create a mask to identify heat periods where rolling mean is greater than threshold_temp\n",
    "        heat_period_mask = rolling_mean > threshold_temp\n",
    "\n",
    "        heat_periods = []\n",
    "        current_period = None\n",
    "        total_heat_period_duration = 0  \n",
    "\n",
    "        for i, is_heat_period in enumerate(heat_period_mask):\n",
    "            if is_heat_period:\n",
    "                if current_period is None:\n",
    "                    current_period = [i]\n",
    "                else:\n",
    "                    current_period.append(i)\n",
    "            elif current_period is not None:\n",
    "                if len(current_period) > 4380:  # Check if it's more than 3 days\n",
    "                    start_date = df['TIME'].iloc[current_period[0]].strftime('%Y-%m-%d')\n",
    "                    end_date = df['TIME'].iloc[current_period[-1]].strftime('%Y-%m-%d')\n",
    "                    start_date_timestamp = pd.to_datetime(start_date)\n",
    "                    end_date_timestamp = pd.to_datetime(end_date)\n",
    "                    period_duration = (end_date_timestamp - start_date_timestamp).days\n",
    "                    total_heat_period_duration += period_duration  # Accumulate the duration\n",
    "\n",
    "                current_period = None\n",
    "\n",
    "        description_df['heat_period'] = total_heat_period_duration\n",
    "        \n",
    "        # Add monitoring days for each sensor in DataFrame\n",
    "        periods = sliced_df['Date'].iloc[-1] - sliced_df['Date'].iloc[0]\n",
    "        periods = periods.days\n",
    "        description_df['recored_periods'] = periods \n",
    "\n",
    "        # Append the description DataFrame to the list\n",
    "        description_dfs.append(description_df)\n",
    "        \n",
    "    except Exception as e:\n",
    "        print(f\"Error in {str(e)}\")\n",
    "\n",
    "# Concatenate the description DataFrames for all sensors into a single DataFrame\n",
    "description_df = pd.concat(description_dfs, ignore_index=True)\n",
    "\n",
    "\n",
    "print(description_df)\n"
   ]
  },
  {
   "cell_type": "code",
   "execution_count": 63,
   "id": "280c812a-75bb-4720-82ab-01a4a5c69ea2",
   "metadata": {
    "tags": []
   },
   "outputs": [],
   "source": [
    "file_path_ID ='Data/SensorID_EPC_Survey_Open_Data.csv'\n",
    "df = pd.read_csv(file_path_ID)"
   ]
  },
  {
   "cell_type": "markdown",
   "id": "cbe9b43d-c792-4e6a-9e7a-c1d8251f7272",
   "metadata": {},
   "source": [
    "## Merge two DataFrame"
   ]
  },
  {
   "cell_type": "code",
   "execution_count": 64,
   "id": "80d8d10e-edf8-4a97-b50d-65a8f46d140e",
   "metadata": {
    "tags": []
   },
   "outputs": [],
   "source": [
    "df = df.merge(description_df, on='ID', suffixes=('_left', '_right'))"
   ]
  },
  {
   "cell_type": "code",
   "execution_count": 65,
   "id": "62927177-9494-4f4d-817d-d068e5a2a195",
   "metadata": {
    "tags": []
   },
   "outputs": [],
   "source": [
    "# Calculate the sustained heat period proportion of whole monitoring days\n",
    "df['perc_heat']=round(df['heat_period']/df['recored_periods']*100,2)"
   ]
  },
  {
   "cell_type": "markdown",
   "id": "d6f369bd-32ff-4fbd-a0e2-04a21bb14f4d",
   "metadata": {},
   "source": [
    "# Two-sampled t-test"
   ]
  },
  {
   "cell_type": "markdown",
   "id": "eefba058-9d0b-4fb3-af63-f714f8edce0e",
   "metadata": {},
   "source": [
    "## Communal heating system"
   ]
  },
  {
   "cell_type": "code",
   "execution_count": 61,
   "id": "d23db403-115e-4829-b4fc-a22d686827ac",
   "metadata": {
    "tags": []
   },
   "outputs": [
    {
     "data": {
      "image/png": "[encoded data removed]",
      "text/plain": [
       "<Figure size 800x500 with 1 Axes>"
      ]
     },
     "metadata": {},
     "output_type": "display_data"
    }
   ],
   "source": [
    "plt.figure(figsize=(8,5))\n",
    "\n",
    "counts = df['if_communal'].value_counts()\n",
    "colors = ['#1289A7', '#EE5A24','#FFC312']\n",
    "\n",
    "plt.bar(counts.index, counts.values,color=colors)\n",
    "\n",
    "for i, count in enumerate(counts.values):\n",
    "    plt.text(i, count-1, str(count), ha='center', va='bottom', fontsize=12, color='black')\n",
    "\n",
    "plt.xlabel('')\n",
    "plt.ylabel('Count')\n",
    "plt.title('Counts of Household on Communal Heating System', fontsize=15)\n",
    "\n",
    "plt.show()"
   ]
  },
  {
   "cell_type": "markdown",
   "id": "8ab2d385-c70b-4a9e-b826-f4ba08b918ab",
   "metadata": {},
   "source": [
    "### Mean temperature"
   ]
  },
  {
   "cell_type": "code",
   "execution_count": 63,
   "id": "517bc110-401e-4434-9d3b-fe46abaeaf35",
   "metadata": {
    "tags": []
   },
   "outputs": [
    {
     "data": {
      "image/png": "[encoded data removed]",
      "text/plain": [
       "<Figure size 800x600 with 1 Axes>"
      ]
     },
     "metadata": {},
     "output_type": "display_data"
    }
   ],
   "source": [
    "plt.figure(figsize=(8, 6))\n",
    "sns.set(style=\"whitegrid\")\n",
    "\n",
    "colors = ['#1289A7', '#EE5A24','#FFC312']\n",
    "\n",
    "ax = sns.boxplot(x='if_communal', y='mean', data=df_survey, palette=colors, order=category_order)\n",
    "sns.stripplot(x='if_communal', y='mean', data=df_survey, jitter=True, order=category_order, color='black', alpha=0.5)\n",
    "\n",
    "medians = df.groupby('if_communal')['mean'].median()\n",
    "means = df.groupby('if_communal')['mean'].mean()\n",
    "\n",
    "mean_points = [means[category] for category in category_order]\n",
    "plt.scatter(ax.get_xticks(), mean_points, marker='o', color='darkred', s=50, label='Mean')\n",
    "\n",
    "for xtick in ax.get_xticks():\n",
    "    ax.text(xtick, medians[category_order[xtick]]+0.05, f'Median: {medians[category_order[xtick]]:.2f}', horizontalalignment='center', color='black', fontsize=11)\n",
    "    ax.text(xtick+0.28, means[category_order[xtick]], f'Mean: {means[category_order[xtick]]:.2f}', horizontalalignment='center', color='darkred', fontsize=11)\n",
    "\n",
    "plt.xlabel('')\n",
    "plt.ylabel('Temperature (°C)')\n",
    "plt.title('Boxplot of Mean Temperature with Communal Heating System or Not', fontsize=15)\n",
    "\n",
    "plt.show()"
   ]
  },
  {
   "cell_type": "markdown",
   "id": "2097a41d-97b3-4812-910a-54d49973b543",
   "metadata": {},
   "source": [
    "### T-test for mean temperature"
   ]
  },
  {
   "cell_type": "code",
   "execution_count": 67,
   "id": "5b4fc904-7ddd-409a-9bde-4a607e80d4b0",
   "metadata": {
    "tags": []
   },
   "outputs": [],
   "source": [
    "import scipy.stats as stats\n",
    "\n",
    "# ANOVA\n",
    "f_statistic, p_value = stats.f_oneway(communal_no, communal_yes_off,communal_yes_on)"
   ]
  },
  {
   "cell_type": "code",
   "execution_count": 68,
   "id": "cdf217f0-7450-4b32-8d80-ba8d912032a8",
   "metadata": {
    "tags": []
   },
   "outputs": [
    {
     "data": {
      "text/plain": [
       "0.07443489671607653"
      ]
     },
     "execution_count": 68,
     "metadata": {},
     "output_type": "execute_result"
    }
   ],
   "source": [
    "p_value"
   ]
  },
  {
   "cell_type": "code",
   "execution_count": 69,
   "id": "84c2871f-f3e7-4555-b58e-cf2c8c1f3cb5",
   "metadata": {
    "tags": []
   },
   "outputs": [
    {
     "data": {
      "text/plain": [
       "2.930235216746733"
      ]
     },
     "execution_count": 69,
     "metadata": {},
     "output_type": "execute_result"
    }
   ],
   "source": [
    "f_statistic"
   ]
  },
  {
   "cell_type": "code",
   "execution_count": 75,
   "id": "eb050327-2294-403f-883e-50f85a2c0f73",
   "metadata": {
    "tags": []
   },
   "outputs": [
    {
     "data": {
      "text/plain": [
       "0.2158274945716955"
      ]
     },
     "execution_count": 75,
     "metadata": {},
     "output_type": "execute_result"
    }
   ],
   "source": [
    "t_statistic, p_value = stats.ttest_ind(communal_no, communal_yes_off)\n",
    "p_value"
   ]
  },
  {
   "cell_type": "code",
   "execution_count": 76,
   "id": "bf1739fb-2025-426e-aa40-e67294992617",
   "metadata": {
    "tags": []
   },
   "outputs": [
    {
     "data": {
      "text/plain": [
       "0.011658834158933998"
      ]
     },
     "execution_count": 76,
     "metadata": {},
     "output_type": "execute_result"
    }
   ],
   "source": [
    "t_statistic, p_value = stats.ttest_ind(communal_no, communal_yes_on)\n",
    "p_value"
   ]
  },
  {
   "cell_type": "code",
   "execution_count": 77,
   "id": "dcfb6017-cf32-427d-aa8a-eb1695257744",
   "metadata": {
    "tags": []
   },
   "outputs": [
    {
     "data": {
      "text/plain": [
       "0.5583323292287945"
      ]
     },
     "execution_count": 77,
     "metadata": {},
     "output_type": "execute_result"
    }
   ],
   "source": [
    "t_statistic, p_value = stats.ttest_ind(communal_yes_on, communal_yes_off)\n",
    "p_value"
   ]
  },
  {
   "cell_type": "markdown",
   "id": "2a7fee56-570d-479a-9632-a00f7fbb3188",
   "metadata": {},
   "source": [
    "A statistically significant mean temperature difference at 1.1 Celsius degrees between households without communal heating system and households that cannot turn the communal heating off. "
   ]
  },
  {
   "cell_type": "markdown",
   "id": "b8d2217a-6c82-4667-99c3-86f78684276d",
   "metadata": {
    "tags": []
   },
   "source": [
    "### Heat periods proportion"
   ]
  },
  {
   "cell_type": "code",
   "execution_count": 118,
   "id": "17c3e2e4-51a6-4e2a-b15e-a6f3fca3dbd9",
   "metadata": {
    "tags": []
   },
   "outputs": [
    {
     "data": {
      "image/png": "[encoded data removed]",
      "text/plain": [
       "<Figure size 800x600 with 1 Axes>"
      ]
     },
     "metadata": {},
     "output_type": "display_data"
    }
   ],
   "source": [
    "plt.figure(figsize=(8, 6))\n",
    "sns.set(style=\"whitegrid\")\n",
    "colors = ['#34ace0', '#ff793f','#ffb142']\n",
    "category_order=[\"No\",\"Yes, it's on in summer\",\"Yes, but it's off in summer\"]\n",
    "ax = sns.boxplot(x='if_communal', y='perc_heat', data=df, palette=colors, order=category_order)\n",
    "sns.stripplot(x='if_communal', y='perc_heat', data=df, jitter=True, order=category_order, color='black', alpha=0.5)\n",
    "\n",
    "\n",
    "medians = df.groupby('if_communal')['perc_heat'].median()\n",
    "means = df.groupby('if_communal')['perc_heat'].mean()\n",
    "\n",
    "mean_points = [means[category] for category in category_order]\n",
    "plt.scatter(ax.get_xticks(), mean_points, marker='o', color='darkred', s=50, label='perc_heat')\n",
    "\n",
    "for xtick in ax.get_xticks():\n",
    "    ax.text(xtick, medians[category_order[xtick]]+0.05, f'Median: {medians[category_order[xtick]]:.2f}', horizontalalignment='center', color='black', fontsize=11)\n",
    "    ax.text(xtick+0.28, means[category_order[xtick]]+0.6, f'Mean: {means[category_order[xtick]]:.2f}', horizontalalignment='center', color='darkred', fontsize=11)\n",
    "\n",
    "plt.xlabel('')\n",
    "plt.ylabel('Temperature (°C)')\n",
    "plt.title('Boxplot of Heat Periods Percentage with Communal Heating System or Not', fontsize=15)\n",
    "plt.show()"
   ]
  },
  {
   "cell_type": "markdown",
   "id": "783fc4a0-7c80-4dca-872b-a169b6bb2f3d",
   "metadata": {},
   "source": [
    "### T-test for heat periods proportion"
   ]
  },
  {
   "cell_type": "code",
   "execution_count": 119,
   "id": "d7c23bfd-75d1-4656-a166-3d5ef697cbe3",
   "metadata": {
    "tags": []
   },
   "outputs": [],
   "source": [
    "communal_no=df_survey[df_survey['if_communal']=='No']['perc_heat']\n",
    "communal_yes_off=df_survey[df_survey['if_communal']==\"Yes, but it's off in summer\"]['perc_heat']\n",
    "communal_yes_on=df_survey[df_survey['if_communal']==\"Yes, it's on in summer\"]['perc_heat']"
   ]
  },
  {
   "cell_type": "code",
   "execution_count": 121,
   "id": "73e7e1de-a930-4480-9f66-2badb9fca08e",
   "metadata": {
    "tags": []
   },
   "outputs": [],
   "source": [
    "import scipy.stats as stats\n",
    "\n",
    "# ANOVA\n",
    "f_statistic, p_value = stats.f_oneway(communal_no, communal_yes_off,communal_yes_on)"
   ]
  },
  {
   "cell_type": "code",
   "execution_count": 122,
   "id": "12b81737-c7ad-4a5c-bf49-dc3b36c11517",
   "metadata": {
    "tags": []
   },
   "outputs": [
    {
     "data": {
      "text/plain": [
       "0.08291145230420803"
      ]
     },
     "execution_count": 122,
     "metadata": {},
     "output_type": "execute_result"
    }
   ],
   "source": [
    "p_value"
   ]
  },
  {
   "cell_type": "code",
   "execution_count": 123,
   "id": "b528f95d-91c6-43cb-928d-683e1fae1e6b",
   "metadata": {
    "tags": []
   },
   "outputs": [
    {
     "data": {
      "text/plain": [
       "2.794325060762251"
      ]
     },
     "execution_count": 123,
     "metadata": {},
     "output_type": "execute_result"
    }
   ],
   "source": [
    "f_statistic"
   ]
  },
  {
   "cell_type": "code",
   "execution_count": 129,
   "id": "387b42f2-26bf-49ef-a3c0-d148e5ac4e7c",
   "metadata": {
    "tags": []
   },
   "outputs": [
    {
     "data": {
      "text/plain": [
       "0.3308736810532007"
      ]
     },
     "execution_count": 129,
     "metadata": {},
     "output_type": "execute_result"
    }
   ],
   "source": [
    "t_statistic, p_value = stats.ttest_ind(communal_no, communal_yes_off)\n",
    "p_value"
   ]
  },
  {
   "cell_type": "code",
   "execution_count": 130,
   "id": "25e953c0-6d53-4256-b089-68064ca8a847",
   "metadata": {
    "tags": []
   },
   "outputs": [
    {
     "data": {
      "text/plain": [
       "0.022382294711848487"
      ]
     },
     "execution_count": 130,
     "metadata": {},
     "output_type": "execute_result"
    }
   ],
   "source": [
    "t_statistic, p_value = stats.ttest_ind(communal_no, communal_yes_on)\n",
    "p_value"
   ]
  },
  {
   "cell_type": "code",
   "execution_count": 131,
   "id": "5aaa8e1c-7eb0-426e-a836-903979f1711f",
   "metadata": {
    "tags": []
   },
   "outputs": [
    {
     "data": {
      "text/plain": [
       "0.3954524734808068"
      ]
     },
     "execution_count": 131,
     "metadata": {},
     "output_type": "execute_result"
    }
   ],
   "source": [
    "t_statistic, p_value = stats.ttest_ind(communal_yes_on, communal_yes_off)\n",
    "p_value"
   ]
  },
  {
   "cell_type": "markdown",
   "id": "44a12bdf-bcd1-4012-807a-a89079764b55",
   "metadata": {},
   "source": [
    "A statistically significant sustained heat periods proportion difference between households without communal heating system and households that cannot turn the communal heating off."
   ]
  },
  {
   "cell_type": "markdown",
   "id": "7b1ce4ad-e926-410a-bd1e-57c9e29019b1",
   "metadata": {},
   "source": [
    "## EPC"
   ]
  },
  {
   "cell_type": "code",
   "execution_count": 24,
   "id": "abee2740-209a-4032-864d-29c45d729e96",
   "metadata": {
    "tags": []
   },
   "outputs": [
    {
     "data": {
      "image/png": "[encoded data removed]",
      "text/plain": [
       "<Figure size 640x480 with 1 Axes>"
      ]
     },
     "metadata": {},
     "output_type": "display_data"
    }
   ],
   "source": [
    "# Plot the distribution of EPC\n",
    "counts = df['Current EPC Rating '].value_counts()\n",
    "\n",
    "category_order=[\"B\",\"C\",\"D\",'E']\n",
    "colors =[\"#2C9F29\", \"#A0D20E\", \"#F8F400\", \"#F1C300\"]\n",
    "plt.figure()\n",
    "sns.barplot(x=counts.index, y=counts.values, order=category_order, palette=colors)\n",
    "\n",
    "\n",
    "for i, count in enumerate(counts):\n",
    "    plt.text(i, count, str(count), ha='center', va='bottom', fontsize=12, color='black')\n",
    "\n",
    "\n",
    "plt.xlabel('')\n",
    "plt.ylabel('Count')\n",
    "plt.title('Counts of Household with Various EPC', fontsize=15)\n",
    "\n",
    "plt.show()"
   ]
  },
  {
   "cell_type": "markdown",
   "id": "f4deb684-9b40-4222-b340-dc4e1c38f457",
   "metadata": {},
   "source": [
    "### Maximum temperature"
   ]
  },
  {
   "cell_type": "code",
   "execution_count": 26,
   "id": "04c711fc-93b9-4a82-b95d-5e9e94953a4e",
   "metadata": {
    "tags": []
   },
   "outputs": [
    {
     "data": {
      "image/png": "[encoded data removed]",
      "text/plain": [
       "<Figure size 800x600 with 1 Axes>"
      ]
     },
     "metadata": {},
     "output_type": "display_data"
    }
   ],
   "source": [
    "plt.figure(figsize=(8, 6))\n",
    "sns.set(style=\"whitegrid\")\n",
    "category_order=[\"B\",\"C\",\"D\",'E']\n",
    "ax = sns.boxplot(x='Current EPC Rating ', y='max', data=df, palette=colors, order=category_order)\n",
    "sns.stripplot(x='Current EPC Rating ', y='max', data=df, jitter=True, order=category_order, color='black', alpha=0.5)\n",
    "\n",
    "# Calculate the median and mean\n",
    "medians = df.groupby('Current EPC Rating ')['max'].median()\n",
    "means = df.groupby('Current EPC Rating ')['max'].mean()\n",
    "\n",
    "mean_points = [means[category] for category in category_order]\n",
    "plt.scatter(ax.get_xticks(), mean_points, marker='o', color='darkred', s=50, label='Mean')\n",
    "# Annotate the median and mean\n",
    "for xtick in ax.get_xticks():\n",
    "    ax.text(xtick, medians[category_order[xtick]]+0.05, f'Median: {medians[category_order[xtick]]:.2f}', horizontalalignment='center', color='black', fontsize=11)\n",
    "    ax.text(xtick+0.28, means[category_order[xtick]]-0.1, f'Mean: {means[category_order[xtick]]:.2f}', horizontalalignment='center', color='darkred', fontsize=11)\n",
    "\n",
    "plt.xlabel('')\n",
    "plt.ylabel('Temperature (°C)')\n",
    "plt.title('Boxplot of Max Temperature with Various EPC', fontsize=15)\n",
    "plt.show()"
   ]
  },
  {
   "cell_type": "markdown",
   "id": "e15bb5d7-fab7-44f0-9d4d-55d7b78a8d21",
   "metadata": {},
   "source": [
    "### T-test for maximum temperature"
   ]
  },
  {
   "cell_type": "code",
   "execution_count": 30,
   "id": "8f78c240-8dd3-4009-9699-db12cd873430",
   "metadata": {
    "tags": []
   },
   "outputs": [],
   "source": [
    "B=df[df['Current EPC Rating ']=='B']['max']\n",
    "C=df[df['Current EPC Rating ']==\"C\"]['max']\n",
    "D=df[df['Current EPC Rating ']==\"D\"]['max']\n",
    "E=df[df['Current EPC Rating ']==\"E\"]['max']"
   ]
  },
  {
   "cell_type": "code",
   "execution_count": 31,
   "id": "7413672d-45f8-4843-849c-4d2240dd8040",
   "metadata": {
    "tags": []
   },
   "outputs": [],
   "source": [
    "import scipy.stats as stats\n",
    "\n",
    "# ANOVA\n",
    "f_statistic, p_value = stats.f_oneway(B,C,D,E)"
   ]
  },
  {
   "cell_type": "code",
   "execution_count": 32,
   "id": "bc6dc047-de11-4fd1-a4f5-0cabe2d9c9ba",
   "metadata": {
    "tags": []
   },
   "outputs": [
    {
     "data": {
      "text/plain": [
       "0.12276839591763096"
      ]
     },
     "execution_count": 32,
     "metadata": {},
     "output_type": "execute_result"
    }
   ],
   "source": [
    "p_value"
   ]
  },
  {
   "cell_type": "code",
   "execution_count": 33,
   "id": "e4de7a7a-2479-4fed-9463-47b38ead10e1",
   "metadata": {
    "tags": []
   },
   "outputs": [
    {
     "data": {
      "text/plain": [
       "2.0938591511106885"
      ]
     },
     "execution_count": 33,
     "metadata": {},
     "output_type": "execute_result"
    }
   ],
   "source": [
    "f_statistic"
   ]
  },
  {
   "cell_type": "code",
   "execution_count": 34,
   "id": "88ea647a-7433-4f44-b47a-86e543bfc9fb",
   "metadata": {
    "tags": []
   },
   "outputs": [
    {
     "data": {
      "text/plain": [
       "0.4782363671838442"
      ]
     },
     "execution_count": 34,
     "metadata": {},
     "output_type": "execute_result"
    }
   ],
   "source": [
    "t_statistic, p_value = stats.ttest_ind(B, C)\n",
    "p_value"
   ]
  },
  {
   "cell_type": "code",
   "execution_count": 35,
   "id": "e6c26c0d-a119-4dc1-a387-cffd921224d6",
   "metadata": {
    "tags": []
   },
   "outputs": [
    {
     "data": {
      "text/plain": [
       "0.2556483474913897"
      ]
     },
     "execution_count": 35,
     "metadata": {},
     "output_type": "execute_result"
    }
   ],
   "source": [
    "t_statistic, p_value = stats.ttest_ind(B, D)\n",
    "p_value"
   ]
  },
  {
   "cell_type": "code",
   "execution_count": 36,
   "id": "70c35c84-af42-4e52-adad-07f18b616e3f",
   "metadata": {},
   "outputs": [
    {
     "data": {
      "text/plain": [
       "0.009490695445608559"
      ]
     },
     "execution_count": 36,
     "metadata": {},
     "output_type": "execute_result"
    }
   ],
   "source": [
    "t_statistic, p_value = stats.ttest_ind(B, E)\n",
    "p_value"
   ]
  },
  {
   "cell_type": "code",
   "execution_count": 37,
   "id": "deb3cd06-593d-41ee-ba86-24a210a2d8b8",
   "metadata": {
    "tags": []
   },
   "outputs": [
    {
     "data": {
      "text/plain": [
       "0.794714920161521"
      ]
     },
     "execution_count": 37,
     "metadata": {},
     "output_type": "execute_result"
    }
   ],
   "source": [
    "t_statistic, p_value = stats.ttest_ind(C, D)\n",
    "p_value"
   ]
  },
  {
   "cell_type": "code",
   "execution_count": 38,
   "id": "407db791-1218-4295-87d2-411384940f74",
   "metadata": {},
   "outputs": [
    {
     "data": {
      "text/plain": [
       "0.14020326697481958"
      ]
     },
     "execution_count": 38,
     "metadata": {},
     "output_type": "execute_result"
    }
   ],
   "source": [
    "t_statistic, p_value = stats.ttest_ind(C, E)\n",
    "p_value"
   ]
  },
  {
   "cell_type": "code",
   "execution_count": 39,
   "id": "6491d429-8645-4f18-a757-1a7bb3dc19e6",
   "metadata": {
    "tags": []
   },
   "outputs": [
    {
     "data": {
      "text/plain": [
       "0.11985489324277886"
      ]
     },
     "execution_count": 39,
     "metadata": {},
     "output_type": "execute_result"
    }
   ],
   "source": [
    "t_statistic, p_value = stats.ttest_ind(D, E)\n",
    "p_value"
   ]
  },
  {
   "cell_type": "markdown",
   "id": "32277e68-9d7a-4670-a628-52ee30d0781b",
   "metadata": {},
   "source": [
    "### Minimum temperature"
   ]
  },
  {
   "cell_type": "code",
   "execution_count": 45,
   "id": "43238724-5908-4389-9a12-459acbd4a175",
   "metadata": {
    "tags": []
   },
   "outputs": [
    {
     "data": {
      "image/png": "[encoded data removed]",
      "text/plain": [
       "<Figure size 800x600 with 1 Axes>"
      ]
     },
     "metadata": {},
     "output_type": "display_data"
    }
   ],
   "source": [
    "plt.figure(figsize=(8, 6))\n",
    "sns.set(style=\"whitegrid\")\n",
    "category_order=[\"B\",\"C\",\"D\",'E']\n",
    "ax = sns.boxplot(x='Current EPC Rating ', y='min', data=df, palette=colors, order=category_order)\n",
    "sns.stripplot(x='Current EPC Rating ', y='min', data=df, jitter=True, order=category_order, color='black', alpha=0.5)\n",
    "\n",
    "# Calculate the median and mean\n",
    "medians = df.groupby('Current EPC Rating ')['min'].median()\n",
    "means = df.groupby('Current EPC Rating ')['min'].mean()\n",
    "\n",
    "mean_points = [means[category] for category in category_order]\n",
    "plt.scatter(ax.get_xticks(), mean_points, marker='o', color='darkred', s=50, label='Mean')\n",
    "# Annotate the median and mean\n",
    "for xtick in ax.get_xticks():\n",
    "    ax.text(xtick, medians[category_order[xtick]]+0.05, f'Median: {medians[category_order[xtick]]:.2f}', horizontalalignment='center', color='black', fontsize=11)\n",
    "    ax.text(xtick+0.28, means[category_order[xtick]]-0.1, f'Mean: {means[category_order[xtick]]:.2f}', horizontalalignment='center', color='darkred', fontsize=11)\n",
    "\n",
    "plt.xlabel('')\n",
    "plt.ylabel('Temperature (°C)')\n",
    "plt.title('Boxplot of min Temperature with Various EPC', fontsize=15)\n",
    "plt.show()"
   ]
  },
  {
   "cell_type": "markdown",
   "id": "4199f439-cb45-4cfc-891e-f858e8309b18",
   "metadata": {},
   "source": [
    "### T-test for minimum temperature"
   ]
  },
  {
   "cell_type": "code",
   "execution_count": 46,
   "id": "5e3f9163-e4c9-4777-bcba-dbd3459f860d",
   "metadata": {
    "tags": []
   },
   "outputs": [],
   "source": [
    "B=df[df['Current EPC Rating ']=='B']['min']\n",
    "C=df[df['Current EPC Rating ']==\"C\"]['min']\n",
    "D=df[df['Current EPC Rating ']==\"D\"]['min']\n",
    "E=df[df['Current EPC Rating ']==\"E\"]['min']"
   ]
  },
  {
   "cell_type": "code",
   "execution_count": 47,
   "id": "87dba7c0-9d6d-4a71-b8bb-92aca4085b9d",
   "metadata": {
    "tags": []
   },
   "outputs": [],
   "source": [
    "import scipy.stats as stats\n",
    "\n",
    "# ANOVA\n",
    "f_statistic, p_value = stats.f_oneway(B,C,D,E)"
   ]
  },
  {
   "cell_type": "code",
   "execution_count": 48,
   "id": "ca72c1b0-9ede-4127-8a8b-d4b9fc4149ec",
   "metadata": {
    "tags": []
   },
   "outputs": [
    {
     "data": {
      "text/plain": [
       "0.0391350763144506"
      ]
     },
     "execution_count": 48,
     "metadata": {},
     "output_type": "execute_result"
    }
   ],
   "source": [
    "p_value"
   ]
  },
  {
   "cell_type": "code",
   "execution_count": 49,
   "id": "48f37b6a-302b-4f4b-9a8b-2870a6df4ec6",
   "metadata": {
    "tags": []
   },
   "outputs": [
    {
     "data": {
      "text/plain": [
       "3.1691950466817467"
      ]
     },
     "execution_count": 49,
     "metadata": {},
     "output_type": "execute_result"
    }
   ],
   "source": [
    "f_statistic"
   ]
  },
  {
   "cell_type": "code",
   "execution_count": 50,
   "id": "d54eb41b-1968-4a6a-9ef7-dc1bda4099c9",
   "metadata": {
    "tags": []
   },
   "outputs": [
    {
     "data": {
      "text/plain": [
       "0.1552248793813648"
      ]
     },
     "execution_count": 50,
     "metadata": {},
     "output_type": "execute_result"
    }
   ],
   "source": [
    "t_statistic, p_value = stats.ttest_ind(B, C)\n",
    "p_value"
   ]
  },
  {
   "cell_type": "code",
   "execution_count": 51,
   "id": "074a53d7-b199-4651-9117-5e833e2d1033",
   "metadata": {
    "tags": []
   },
   "outputs": [
    {
     "data": {
      "text/plain": [
       "0.1393861944581774"
      ]
     },
     "execution_count": 51,
     "metadata": {},
     "output_type": "execute_result"
    }
   ],
   "source": [
    "t_statistic, p_value = stats.ttest_ind(B, D)\n",
    "p_value"
   ]
  },
  {
   "cell_type": "code",
   "execution_count": 52,
   "id": "293ef390-2c95-4b63-9883-3a8044b31b7e",
   "metadata": {},
   "outputs": [
    {
     "data": {
      "text/plain": [
       "0.08555721879222279"
      ]
     },
     "execution_count": 52,
     "metadata": {},
     "output_type": "execute_result"
    }
   ],
   "source": [
    "t_statistic, p_value = stats.ttest_ind(B, E)\n",
    "p_value"
   ]
  },
  {
   "cell_type": "code",
   "execution_count": 53,
   "id": "d6907bdb-02d0-45af-8f9f-454bde3edcaa",
   "metadata": {
    "tags": []
   },
   "outputs": [
    {
     "data": {
      "text/plain": [
       "0.8370578964036777"
      ]
     },
     "execution_count": 53,
     "metadata": {},
     "output_type": "execute_result"
    }
   ],
   "source": [
    "t_statistic, p_value = stats.ttest_ind(C, D)\n",
    "p_value"
   ]
  },
  {
   "cell_type": "code",
   "execution_count": 54,
   "id": "60fe4f14-e3fd-4e5d-b79e-04b51fa81dd6",
   "metadata": {},
   "outputs": [
    {
     "data": {
      "text/plain": [
       "0.036931296113387"
      ]
     },
     "execution_count": 54,
     "metadata": {},
     "output_type": "execute_result"
    }
   ],
   "source": [
    "t_statistic, p_value = stats.ttest_ind(C, E)\n",
    "p_value"
   ]
  },
  {
   "cell_type": "code",
   "execution_count": 55,
   "id": "3080b98d-87dd-47b1-9212-ac1b444f3142",
   "metadata": {
    "tags": []
   },
   "outputs": [
    {
     "data": {
      "text/plain": [
       "0.004262694787445767"
      ]
     },
     "execution_count": 55,
     "metadata": {},
     "output_type": "execute_result"
    }
   ],
   "source": [
    "t_statistic, p_value = stats.ttest_ind(D, E)\n",
    "p_value"
   ]
  },
  {
   "cell_type": "markdown",
   "id": "3e9dcfbb-9854-4023-a123-08518b499031",
   "metadata": {},
   "source": [
    "There is a statistically significant difference between EPC C/D houses and EPC E house at about 2.5 Celsius degree. "
   ]
  },
  {
   "cell_type": "code",
   "execution_count": null,
   "id": "b044a9bd-8d00-4c34-aaa0-92645036245c",
   "metadata": {},
   "outputs": [],
   "source": []
  }
 ],
 "metadata": {
  "kernelspec": {
   "display_name": "Python 3 (ipykernel)",
   "language": "python",
   "name": "python3"
  },
  "language_info": {
   "codemirror_mode": {
    "name": "ipython",
    "version": 3
   },
   "file_extension": ".py",
   "mimetype": "text/x-python",
   "name": "python",
   "nbconvert_exporter": "python",
   "pygments_lexer": "ipython3",
   "version": "3.11.5"
  }
 },
 "nbformat": 4,
 "nbformat_minor": 5
}
